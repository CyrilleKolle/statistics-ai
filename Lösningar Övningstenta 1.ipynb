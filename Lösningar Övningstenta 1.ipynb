{
 "cells": [
  {
   "cell_type": "markdown",
   "id": "554c0da6-ff7f-4504-a816-7c8ed119f711",
   "metadata": {},
   "source": [
    "# Uppgift 1"
   ]
  },
  {
   "cell_type": "markdown",
   "id": "af368380-6099-4f53-9900-ffa52e5a23c0",
   "metadata": {},
   "source": [
    "### 1a"
   ]
  },
  {
   "cell_type": "markdown",
   "id": "ca831708-b551-4200-81f4-1c94d07aa53f",
   "metadata": {},
   "source": [
    "$P(A^c)=1-P(A)=1-0.3=0.7$"
   ]
  },
  {
   "cell_type": "markdown",
   "id": "73c7413e-1afa-4efc-9ada-34b23b24dcb0",
   "metadata": {},
   "source": [
    "### 1b"
   ]
  },
  {
   "cell_type": "markdown",
   "id": "3e94aae7-efe5-4aee-bb6f-28cfe2e477f3",
   "metadata": {},
   "source": [
    "$P(A \\cup B)=P(A)+P(B)-P(A \\cap B)=0.3+0.5-0.14=0.66$"
   ]
  },
  {
   "cell_type": "markdown",
   "id": "29ee11eb-7097-4d3c-b760-36b2d1a4f57c",
   "metadata": {},
   "source": [
    "### 1c"
   ]
  },
  {
   "cell_type": "markdown",
   "id": "4746e97b-b3bb-4d93-bcdb-05c15761fff0",
   "metadata": {},
   "source": [
    "$P(B|A)=\\dfrac{P(A \\cap B)}{P(A)}=\\dfrac{0.14}{0.3}=0.47$"
   ]
  },
  {
   "cell_type": "markdown",
   "id": "88fa0c2f-81a5-44fc-b1b2-ad51d4ae16d4",
   "metadata": {},
   "source": [
    "### 1d"
   ]
  },
  {
   "cell_type": "markdown",
   "id": "9dc60216-b97d-4f00-a0cd-3452d4157acd",
   "metadata": {},
   "source": [
    "Nej, händelserna är inte oberoende, eftersom $P(A \\cap B) \\neq P(A)P(B)$, eller alternativt: $P(B|A) \\neq P(B)$ "
   ]
  },
  {
   "cell_type": "markdown",
   "id": "44dc8986-3325-401f-83b2-cd475b2a943b",
   "metadata": {},
   "source": [
    "# Uppgift 2"
   ]
  },
  {
   "cell_type": "code",
   "execution_count": 1,
   "id": "0836628d-e64c-4089-9d0c-c78abe8519a2",
   "metadata": {},
   "outputs": [
    {
     "data": {
      "text/html": [
       "<div>\n",
       "<style scoped>\n",
       "    .dataframe tbody tr th:only-of-type {\n",
       "        vertical-align: middle;\n",
       "    }\n",
       "\n",
       "    .dataframe tbody tr th {\n",
       "        vertical-align: top;\n",
       "    }\n",
       "\n",
       "    .dataframe thead th {\n",
       "        text-align: right;\n",
       "    }\n",
       "</style>\n",
       "<table border=\"1\" class=\"dataframe\">\n",
       "  <thead>\n",
       "    <tr style=\"text-align: right;\">\n",
       "      <th></th>\n",
       "      <th>timmar</th>\n",
       "    </tr>\n",
       "  </thead>\n",
       "  <tbody>\n",
       "    <tr>\n",
       "      <th>0</th>\n",
       "      <td>125.476433</td>\n",
       "    </tr>\n",
       "    <tr>\n",
       "      <th>1</th>\n",
       "      <td>44.976769</td>\n",
       "    </tr>\n",
       "    <tr>\n",
       "      <th>2</th>\n",
       "      <td>47.985817</td>\n",
       "    </tr>\n",
       "    <tr>\n",
       "      <th>3</th>\n",
       "      <td>28.373130</td>\n",
       "    </tr>\n",
       "    <tr>\n",
       "      <th>4</th>\n",
       "      <td>98.154675</td>\n",
       "    </tr>\n",
       "  </tbody>\n",
       "</table>\n",
       "</div>"
      ],
      "text/plain": [
       "       timmar\n",
       "0  125.476433\n",
       "1   44.976769\n",
       "2   47.985817\n",
       "3   28.373130\n",
       "4   98.154675"
      ]
     },
     "execution_count": 1,
     "metadata": {},
     "output_type": "execute_result"
    }
   ],
   "source": [
    "import pandas as pd\n",
    "import numpy as np\n",
    "from scipy import stats\n",
    "\n",
    "np.random.seed(seed=1)\n",
    "skolk = pd.DataFrame(data=stats.norm.rvs(size=10, loc=67, scale=36), columns=['timmar'])\n",
    "\n",
    "skolk.head()"
   ]
  },
  {
   "cell_type": "markdown",
   "id": "22bcbdda-e982-489b-a6fd-7a7fdea6a103",
   "metadata": {},
   "source": [
    "### 2a"
   ]
  },
  {
   "cell_type": "code",
   "execution_count": 2,
   "id": "2f595ae3-571f-46f6-b12e-a3f0210dabe0",
   "metadata": {},
   "outputs": [
    {
     "name": "stdout",
     "output_type": "stream",
     "text": [
      "Pandas mean: 63.5029279309804\n",
      "Numpy mean: 63.5029279309804\n"
     ]
    }
   ],
   "source": [
    "pd_result = skolk['timmar'].mean()\n",
    "np_result = np.mean(skolk['timmar'])\n",
    "print(f'Pandas mean: {pd_result}')\n",
    "print(f'Numpy mean: {np_result}')"
   ]
  },
  {
   "cell_type": "markdown",
   "id": "b0341664-4060-4c2e-8ffc-59df553e80b1",
   "metadata": {},
   "source": [
    "### 2b"
   ]
  },
  {
   "cell_type": "code",
   "execution_count": 18,
   "id": "7d0d300b-7882-45a9-aeeb-9f6e7150b001",
   "metadata": {},
   "outputs": [
    {
     "name": "stdout",
     "output_type": "stream",
     "text": [
      "Pandas mean: 45.19142264062256\n",
      "Numpy mean: 45.19142264062256\n",
      "timmar    45.191423\n",
      "dtype: float64\n"
     ]
    }
   ],
   "source": [
    "pd_result = skolk['timmar'].std()\n",
    "np_result = np.std(skolk['timmar'], ddof=1)\n",
    "\n",
    "print(f'Pandas mean: {pd_result}')\n",
    "print(f'Numpy mean: {np_result}')\n",
    "print(n)"
   ]
  },
  {
   "cell_type": "code",
   "execution_count": null,
   "id": "92cfb998",
   "metadata": {},
   "outputs": [],
   "source": []
  },
  {
   "cell_type": "code",
   "execution_count": null,
   "id": "c14e21f6",
   "metadata": {},
   "outputs": [],
   "source": []
  },
  {
   "cell_type": "markdown",
   "id": "86c0d5e8-aa05-4a9f-a205-ca97c3fdb5a8",
   "metadata": {},
   "source": [
    "### 2c"
   ]
  },
  {
   "cell_type": "markdown",
   "id": "2e8ddff9-5d59-4ac8-befe-d49120a02697",
   "metadata": {},
   "source": [
    "Sannolikheten att skolkandet en given månad är större än 75 timmar: $P(X>75)$ alternativt $1-P(X<75)$"
   ]
  },
  {
   "cell_type": "code",
   "execution_count": 4,
   "id": "988fc01f-0cff-423d-87d4-42f797b33384",
   "metadata": {},
   "outputs": [
    {
     "name": "stdout",
     "output_type": "stream",
     "text": [
      "Probability P(X>75): 0.4120704478709426\n"
     ]
    }
   ],
   "source": [
    "result = 1 - stats.norm.cdf(x=75, loc=67, scale=36)\n",
    "print(f'Probability P(X>75): {result}')"
   ]
  },
  {
   "cell_type": "markdown",
   "id": "f00534bc-1e28-4abb-b64e-2816e899683d",
   "metadata": {},
   "source": [
    "### 2d"
   ]
  },
  {
   "cell_type": "markdown",
   "id": "897022f8-75f1-418c-9add-c6f2dd8a3b32",
   "metadata": {},
   "source": [
    "Sannolikheten att högst 30 studenter skolkar en given månad: $P(X\\leq30)$"
   ]
  },
  {
   "cell_type": "code",
   "execution_count": 5,
   "id": "a9a9593f-d037-4cc6-b4f6-ec4ae3051d4e",
   "metadata": {},
   "outputs": [
    {
     "name": "stdout",
     "output_type": "stream",
     "text": [
      "Probability P(X<=30): 0.4061480181077554\n"
     ]
    }
   ],
   "source": [
    "result = stats.poisson.cdf(k=30, mu=32)\n",
    "print(f'Probability P(X<=30): {result}')"
   ]
  },
  {
   "cell_type": "markdown",
   "id": "3937f1e2-496b-4a7a-9402-a46217f56748",
   "metadata": {},
   "source": [
    "# Uppgift 3"
   ]
  },
  {
   "cell_type": "markdown",
   "id": "790c47af-d6d7-479e-a1e0-9516aabf35f2",
   "metadata": {},
   "source": [
    "$X=\\{1, 5, -3, 0, 5, -1, 8, 3, 12\\}$"
   ]
  },
  {
   "cell_type": "code",
   "execution_count": 6,
   "id": "b0f32759-f31b-4ba5-a188-3b9729cac544",
   "metadata": {},
   "outputs": [],
   "source": [
    "X=[1,5,-3,0,5,-1,8,3,12]"
   ]
  },
  {
   "cell_type": "markdown",
   "id": "0bcd5cc0-2b3b-443c-8d95-ed216ea16b20",
   "metadata": {},
   "source": [
    "### 3a"
   ]
  },
  {
   "cell_type": "markdown",
   "id": "5d9410c5-a6d3-4d6f-8d89-fe5eb413fa4a",
   "metadata": {},
   "source": [
    "${\\bar x}=\\dfrac{1}{n}\\displaystyle\\sum_{i=1}^{n}x_i=\\dfrac{x_1+\\dots+x_n}{n}=\\dfrac{1+5+(-3)+0+5+(-1)+8+3+12}{9}=\\dfrac{30}{9}=3.33$"
   ]
  },
  {
   "cell_type": "code",
   "execution_count": 7,
   "id": "12cb9d8a-4e06-40cd-9add-14382e2b3da7",
   "metadata": {},
   "outputs": [
    {
     "data": {
      "text/plain": [
       "3.3333333333333335"
      ]
     },
     "execution_count": 7,
     "metadata": {},
     "output_type": "execute_result"
    }
   ],
   "source": [
    "np.mean(X)"
   ]
  },
  {
   "cell_type": "markdown",
   "id": "a3e797ae-a966-4125-b584-8832a161f696",
   "metadata": {},
   "source": [
    "### 3b"
   ]
  },
  {
   "cell_type": "markdown",
   "id": "2a92a288-1319-4ff4-85ae-480620b007f2",
   "metadata": {},
   "source": [
    "$s^2=\\dfrac{1}{n-1} \\displaystyle\\sum_{i=1}^{n} (x_i-{\\bar x})^2 = \\frac{1}{n-1}\\sum_{i=1}^{n}x_i^2-n{\\bar x}^2=\\dfrac{1^2+5^2+(-3)^2+0^2+5^2+(-1)^2+8^2+3^2+12^2-9*3.33^2}{9-1}=\\dfrac{1+25+9+0+25+1+64+9+144-100}{8}= \\frac{178}{8}=22.25$\n",
    "$s=\\sqrt{s^2}=\\sqrt{22.25}=4.72$"
   ]
  },
  {
   "cell_type": "code",
   "execution_count": 8,
   "id": "f2b3b6e3-ba5b-4d85-ac52-e328f0ad06ff",
   "metadata": {},
   "outputs": [
    {
     "data": {
      "text/plain": [
       "4.716990566028302"
      ]
     },
     "execution_count": 8,
     "metadata": {},
     "output_type": "execute_result"
    }
   ],
   "source": [
    "np.std(X, ddof=1)"
   ]
  },
  {
   "cell_type": "markdown",
   "id": "af1a6e59-8887-4a3a-8dc4-e1f1c836e83b",
   "metadata": {},
   "source": [
    "### 3c"
   ]
  },
  {
   "cell_type": "markdown",
   "id": "d22df0b0-87be-4c4c-850d-c7fb0ba733aa",
   "metadata": {},
   "source": [
    "$X=\\{1, 5, -3, 0, 5, -1, 8, 3, 12\\}$ Sortering efter storlek ger: $X=\\{-3, -1, 0, 1, 3, 5, 5, 8, 12\\}$ Värdet som delar datamängden i två lika stora delar är $3$"
   ]
  },
  {
   "cell_type": "code",
   "execution_count": 9,
   "id": "cfee0bfc-2469-4a3f-990d-26f5875ddc90",
   "metadata": {},
   "outputs": [
    {
     "data": {
      "text/plain": [
       "3.0"
      ]
     },
     "execution_count": 9,
     "metadata": {},
     "output_type": "execute_result"
    }
   ],
   "source": [
    "np.median(X)"
   ]
  },
  {
   "cell_type": "markdown",
   "id": "06316c11-07c7-43d4-b66b-d58de4422e79",
   "metadata": {},
   "source": [
    "### 3d"
   ]
  },
  {
   "cell_type": "markdown",
   "id": "1859a014-7261-4cb2-b6c6-60beded300a5",
   "metadata": {},
   "source": [
    "$X=\\{1, 5, -3, 0, 5, -1, 8, 3, 12\\}$ Det enda värde som förekommer mer än 1 gång är 5, alltså är typvärdet $5$."
   ]
  },
  {
   "cell_type": "code",
   "execution_count": 10,
   "id": "427458e2-dfc8-4558-ab6a-0a8772bc4fb8",
   "metadata": {},
   "outputs": [
    {
     "data": {
      "text/plain": [
       "5"
      ]
     },
     "execution_count": 10,
     "metadata": {},
     "output_type": "execute_result"
    }
   ],
   "source": [
    "import statistics as stat\n",
    "stat.mode(X)"
   ]
  },
  {
   "cell_type": "markdown",
   "id": "f6634982-92c5-474e-bc61-df4569eb8335",
   "metadata": {},
   "source": [
    "# Uppgift 4"
   ]
  },
  {
   "cell_type": "code",
   "execution_count": 11,
   "id": "3943b732-fd16-4e58-9d7b-3ea2fdbdb4f9",
   "metadata": {},
   "outputs": [],
   "source": [
    "### 4a"
   ]
  },
  {
   "cell_type": "markdown",
   "id": "e4f0f284-8006-40f5-b47e-63e6315e4112",
   "metadata": {},
   "source": [
    "$X\\sim Geom(0.2)$<br><br>\n",
    "$E(X)=1/p=5$<br>\n",
    "$S(X)=\\dfrac{\\sqrt{1-p}}{p}=\\dfrac{\\sqrt{1-0.2}}{0.2}=4.47$<br>\n",
    "$P(X=3) = pq^{x-1}=0.2*0.8^{3-1}=0.2*0.8^2=0.128$"
   ]
  },
  {
   "cell_type": "code",
   "execution_count": 12,
   "id": "f34f8636-d424-4764-a733-7fbffcc2e685",
   "metadata": {},
   "outputs": [
    {
     "name": "stdout",
     "output_type": "stream",
     "text": [
      "Mean: 5.0\n",
      "Standard deviation: 4.47213595499958\n",
      "P(X=3): 0.12800000000000003\n"
     ]
    }
   ],
   "source": [
    "mean, var = stats.geom.stats(p=0.2)\n",
    "std = np.sqrt(var)\n",
    "result = stats.geom.pmf(k=3, p=0.2)\n",
    "print(f'Mean: {mean}')\n",
    "print(f'Standard deviation: {std}')\n",
    "print(f'P(X=3): {result}')\n"
   ]
  },
  {
   "cell_type": "markdown",
   "id": "b0644890-2dd4-4d20-ab02-df82b15173a7",
   "metadata": {},
   "source": [
    "### 4b"
   ]
  },
  {
   "cell_type": "markdown",
   "id": "8e0d91e6-2edc-428f-8288-c19af329e619",
   "metadata": {},
   "source": [
    "$X \\sim Uniform(0, 5)$<br><br>\n",
    "$E(X) = \\dfrac{a+b}{2} = \\dfrac{0+5}{2} = 2.5$<br>\n",
    "$S(X)=\\dfrac{b-a}{\\sqrt{12}} = \\dfrac{5-0}{\\sqrt{12}} = 1.44$<br>\n",
    "$P(X>3) = 1-P(X<3) = 1-\\dfrac{3-a}{b-a} = 1-\\dfrac{3-0}{5-0} = 0.4$ \n"
   ]
  },
  {
   "cell_type": "code",
   "execution_count": 13,
   "id": "03b0d3e3-7de1-4151-93a1-d089c851ccbb",
   "metadata": {},
   "outputs": [
    {
     "name": "stdout",
     "output_type": "stream",
     "text": [
      "Mean: 2.5\n",
      "Standard deviation: 1.4433756729740643\n",
      "P(X=3): 0.4\n"
     ]
    }
   ],
   "source": [
    "mean, var = stats.uniform.stats(scale=5)\n",
    "std = np.sqrt(var)\n",
    "result = 1 - stats.uniform.cdf(x=3, scale=5)\n",
    "print(f'Mean: {mean}')\n",
    "print(f'Standard deviation: {std}')\n",
    "print(f'P(X=3): {result}')"
   ]
  },
  {
   "cell_type": "markdown",
   "id": "f39c7929-55cd-4392-bb62-6db41fdbc2be",
   "metadata": {},
   "source": [
    "# Uppgift 5"
   ]
  },
  {
   "cell_type": "markdown",
   "id": "09d77402-695f-4c82-a96c-52aebed4f61f",
   "metadata": {},
   "source": [
    "### 5a"
   ]
  },
  {
   "cell_type": "markdown",
   "id": "e6d49525-7a4c-44cc-b9e9-79a03bb25867",
   "metadata": {},
   "source": [
    "$n = 30$\n",
    "$s_{XY} = 30$<br>\n",
    "$s_X = 10$<br>\n",
    "$\\bar{y} = 10$<br>\n",
    "$\\bar{x} = 5$<br><br>\n",
    "\n",
    "$SS_{XY} = s_{XY}*(n-1) = 29*30 = 870$<br>\n",
    "$SS_X = s_X*(n-1) = 10*29 = 290$<br><br>"
   ]
  },
  {
   "cell_type": "markdown",
   "id": "f87f6048-bed3-4a23-9778-5a8bcfff5eb2",
   "metadata": {},
   "source": [
    "$b_1 = \\dfrac{SS_{XY}}{SS_X} = \\dfrac{870}{290} = 3$<br>\n",
    "$b_0 = \\bar{y}-b_1\\bar{x} = 10 -3*5 = -5$<br>\n",
    "Modell: $y = 3x-5$"
   ]
  },
  {
   "cell_type": "markdown",
   "id": "9a835314-e429-4226-b7e9-afdc3b8ac51b",
   "metadata": {},
   "source": [
    "### 5b"
   ]
  },
  {
   "cell_type": "markdown",
   "id": "ee5899f4-a591-4155-b77c-c7f05ae64386",
   "metadata": {},
   "source": [
    "Modell: $y = 3x-5$<br>\n",
    "$y(x=4) = 3*4-5 = 12-5 = 7$"
   ]
  },
  {
   "cell_type": "markdown",
   "id": "87086a22-8229-43b6-beae-d7e735263e1d",
   "metadata": {},
   "source": [
    "# Uppgift 6"
   ]
  },
  {
   "cell_type": "markdown",
   "id": "5bbf4a83-106d-40c8-a5e2-f7bfa32062d7",
   "metadata": {},
   "source": [
    "$n_A = n_B = 400$<br>\n",
    "$\\hat{p}_A = 178/400 = 0.445$, $\\hat{p}_B = 158/400 = 0.395$<br>\n",
    "$\\alpha = 0.05$"
   ]
  },
  {
   "cell_type": "markdown",
   "id": "d0569607-647e-4c70-880a-1ed19eb53b0b",
   "metadata": {},
   "source": [
    "$H_A: p_A > p_B, H_0: p_A \\leq p_B$<br><br><br>\n",
    "$Z = \\dfrac{\\hat{p}_A-\\hat{p}_B} {\\sqrt{ \\hat{p}(1-\\hat{p}) (\\frac{1}{n_A}+\\frac{1}{n_B})}}$, where $\\hat{p}=\\dfrac{n_A\\hat{p}_A+n_B\\hat{p}_B}{n_A+n_B}$<br><br>\n",
    "$\\hat{p} = \\dfrac{178+158}{800}=0.4125$ <br><br>\n",
    "$Z = \\dfrac{0.445-0.395} {\\sqrt{ 0.4125(1-0.4125) (\\frac{1}{400}+\\frac{1}{400})}} = \\dfrac{0.05}{\\sqrt{0.242*0.005}} = \\dfrac{0.05}{0.035} = 1.44$<br><br>\n",
    "Z-tabell : $P(Z>1.44) = 1-0.9251 = 0.075$<br><br>\n",
    "$p-value > alpha \\rightarrow H_0$ stands. No significant difference between population proportions."
   ]
  },
  {
   "cell_type": "code",
   "execution_count": 14,
   "id": "88e9c789-061a-4118-a3d5-a81d97d782c7",
   "metadata": {},
   "outputs": [
    {
     "name": "stdout",
     "output_type": "stream",
     "text": [
      "p-value: 0.0759759922198051\n",
      "Z-statistic: 1.4326706376531317\n",
      "Null hypothesis stands, proportion A not larger than proportion B\n"
     ]
    }
   ],
   "source": [
    "from statsmodels.stats import proportion\n",
    "stat, pval = proportion.proportions_ztest(count=[178, 158], nobs=400, alternative='larger')\n",
    "alpha = 0.05\n",
    "\n",
    "if pval < alpha:\n",
    "    print(f'p-value: {pval}')\n",
    "    print(f'Z-statistic: {stat}')\n",
    "    print(f'Null hypothesis rejected, proportion A larger than proportion B')\n",
    "else:\n",
    "    print(f'p-value: {pval}')\n",
    "    print(f'Z-statistic: {stat}')\n",
    "    print(f'Null hypothesis stands, proportion A not larger than proportion B')"
   ]
  },
  {
   "cell_type": "markdown",
   "id": "f6186d5b-407b-49b4-84c9-1be2f81be689",
   "metadata": {},
   "source": [
    "# Uppgift 7"
   ]
  },
  {
   "cell_type": "markdown",
   "id": "93bfc10d-dc28-4390-b205-6de0de9ee1ae",
   "metadata": {},
   "source": [
    "### 7a"
   ]
  },
  {
   "cell_type": "markdown",
   "id": "1b4ec778-2b9b-4d13-9dd1-49e76875a287",
   "metadata": {},
   "source": [
    "Låt $X$ var en slumpvariabel som räknar antalet serverade glas alkoholfritt vin.<br>\n",
    "$n = 125, p = 0.2$<br>\n",
    "$ X \\sim Bin(n=125, p=0.2)$<br><br>\n",
    "\n",
    "Utvärdera kriterier för approximation med normalfördelning:<br>\n",
    "$np = 125*0.2 = 25 > 5, n(1-p) = 125*0.8 = 100 > 5. \\rightarrow $ Antag normalfördelning med $ \\mu = np = 125*0.2 = 25$ och $\\sigma = \\sqrt{np(1-p)} = \\sqrt{125*0.2*0.8} = 4.48$<br>\n",
    "\n",
    "$X \\sim Norm(25, 4.48)$<br><br>\n",
    "För att 4 flaskor skall ta slut behöver $4*6=24$ glas serveras. Sannolikheten för att flaskorna skall ta slut är alltså given av $P(X>24) = 1 - P(X<24)$<br><br>\n",
    "\n",
    "Transformera X till Z:<br>\n",
    "$Z = \\dfrac{X-\\mu}{\\sigma}$<br>\n",
    "$1 - P(X<24) = 1 - P(Z<\\dfrac{24-25}{4.48}) = 1 - p(Z<-0.223)$<br>\n",
    "$Z-tabell : P(Z<-0.223)=0.413$<br>\n",
    "$P(X>24) = 1 - 0.413 = 0.587$"
   ]
  },
  {
   "cell_type": "code",
   "execution_count": 15,
   "id": "09efcee8-e1e0-4ab0-befe-7c7b800e692e",
   "metadata": {},
   "outputs": [
    {
     "name": "stdout",
     "output_type": "stream",
     "text": [
      "Probability that all 4 bottles of wine is consumed: 0.5884683631209393\n"
     ]
    }
   ],
   "source": [
    "n = 125\n",
    "p = 0.2\n",
    "\n",
    "mu = n*p\n",
    "std = np.sqrt(n*p*(1-p))\n",
    "\n",
    "result = 1-stats.norm.cdf(x=24, loc=mu, scale=std)\n",
    "print(f'Probability that all 4 bottles of wine is consumed: {result}')"
   ]
  },
  {
   "cell_type": "code",
   "execution_count": 16,
   "id": "c88ea12a-2c61-49b5-bfca-9fe7be8f95ad",
   "metadata": {},
   "outputs": [
    {
     "name": "stdout",
     "output_type": "stream",
     "text": [
      "Probability that all 4 bottles of wine is consumed: 0.5356428063014743\n"
     ]
    }
   ],
   "source": [
    "from scipy.stats import binom\n",
    "result = 1 - binom.cdf(24, p=0.2, n=125)\n",
    "print(f'Probability that all 4 bottles of wine is consumed: {result}')"
   ]
  },
  {
   "cell_type": "markdown",
   "id": "05eb8839-2878-4218-bc33-dedbd2551e03",
   "metadata": {},
   "source": [
    "### 7b"
   ]
  },
  {
   "cell_type": "markdown",
   "id": "14771641-ce5a-4569-bfda-eabc872a371d",
   "metadata": {},
   "source": [
    "Lite märkligt formulerad fråga då det här är en population kan vi inte beräkna ett konfidensintervall, formellt sett. Vi kan ju dock räkna ut ett enligt den generella formeln för konfidensintervall: skattning +/- Z-värde * standardfel, och helt enkelt använda vårt kända $\\mu$ som skattning och vårt kända $\\sigma$ som standardfel. Men det här kallas formellt sett inte för ett konfidensintervall.\n",
    "\n",
    "$\\mu = \\bar{x} \\pm Z_{\\alpha/2} *\\sigma$<br><br>\n",
    "$\\bar{x} = np = 25$\n",
    "$Z_{0.05/2} = 1.96$<br>\n",
    "$\\sigma = \\sqrt{npq} = \\sqrt{125*0.2*0.8} = \\sqrt{20} = 4.48$<br><br>\n",
    "\n",
    "$\\mu = 25 \\pm 1.96*4.48 = 25 \\pm 8.78$<br>"
   ]
  },
  {
   "cell_type": "code",
   "execution_count": 17,
   "id": "326b0f2c-6f2d-4c92-89ba-e5d996bd8306",
   "metadata": {},
   "outputs": [
    {
     "name": "stdout",
     "output_type": "stream",
     "text": [
      "95% CI for non-alcoholic wine consumption: 16.23477459423418-33.76522540576582\n"
     ]
    }
   ],
   "source": [
    "import math\n",
    "\n",
    "result = stats.norm.interval(0.95, loc=mu, scale=std)\n",
    "print(f'95% CI for non-alcoholic wine consumption: {result[0]}-{result[1]}')"
   ]
  },
  {
   "cell_type": "markdown",
   "id": "f1ebd106-d50d-456d-9d06-d7e368f7b00f",
   "metadata": {},
   "source": [
    "### 7c"
   ]
  },
  {
   "cell_type": "markdown",
   "id": "17a1a6b7-70f4-4ec0-89c3-a5a2377bc409",
   "metadata": {},
   "source": [
    "Här vill vi ha ett värde på $X$ sådant att $P(X<x) = 0.95<br><br>\n",
    "\n",
    "Vi använder oss av vår Z-tabell för att ta fram värdet P(Z<z) = 0.95, vilket ger oss Z = 1.645.<br><br>\n",
    "Därefter får vi den övre gränsen genom att transformera tillbaka till $X$ via transformeringsekvationen. $Z = \\dfrac{X-\\mu}{\\sigma} \\rightarrow X = Z*\\sigma+\\mu $<br><br>\n",
    "\n",
    "$ X = 1.645*4.48+25 = 32.37$<br><br>\n",
    "$\\dfrac{32.37}{6} = 5.39 \\rightarrow 6 flaskor $\n",
    "\n"
   ]
  },
  {
   "cell_type": "code",
   "execution_count": null,
   "id": "97e20ac9-0776-49e9-a7eb-71b2ff74b350",
   "metadata": {},
   "outputs": [],
   "source": []
  }
 ],
 "metadata": {
  "kernelspec": {
   "display_name": "data-behandlin-cyrille-kolle-IH-hno8Y",
   "language": "python",
   "name": "python3"
  },
  "language_info": {
   "codemirror_mode": {
    "name": "ipython",
    "version": 3
   },
   "file_extension": ".py",
   "mimetype": "text/x-python",
   "name": "python",
   "nbconvert_exporter": "python",
   "pygments_lexer": "ipython3",
   "version": "3.9.13"
  },
  "vscode": {
   "interpreter": {
    "hash": "687cb790cab5c1df02f1d8017d39b24847b850bfcb98624e1903a6099427824d"
   }
  }
 },
 "nbformat": 4,
 "nbformat_minor": 5
}
