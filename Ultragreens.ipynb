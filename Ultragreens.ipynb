{
 "cells": [
  {
   "cell_type": "code",
   "execution_count": 1,
   "id": "b00db105-9b42-4042-8fce-2520df3c85cd",
   "metadata": {},
   "outputs": [],
   "source": [
    "#Importera nödvändiga paket\n",
    "import numpy as np\n",
    "from statsmodels.stats.proportion import proportion_confint\n",
    "from scipy.stats import t\n",
    "from scipy.stats import norm"
   ]
  },
  {
   "cell_type": "code",
   "execution_count": 2,
   "id": "086f0330-de62-4266-8c19-f30660fb5d15",
   "metadata": {},
   "outputs": [],
   "source": [
    "# Generera array med indata\n",
    "cars = np.array([97,117,93,79,97,87,78,83,94,96,102,98,82,96,113,113,111,90,101,99,112,89,92,96,98])"
   ]
  },
  {
   "cell_type": "code",
   "execution_count": 6,
   "id": "25b6f6c3",
   "metadata": {},
   "outputs": [
    {
     "name": "stdout",
     "output_type": "stream",
     "text": [
      "[ 97 117  93  79  97  87  78  83  94  96 102  98  82  96 113 113 111  90\n",
      " 101  99 112  89  92  96  98]\n"
     ]
    }
   ],
   "source": [
    "print(cars)"
   ]
  },
  {
   "cell_type": "code",
   "execution_count": 3,
   "id": "d074a024-b44d-4456-9283-84b03677f211",
   "metadata": {},
   "outputs": [
    {
     "name": "stdout",
     "output_type": "stream",
     "text": [
      "Confidence interval (α=0.1) for average 'mpg' of Ultragreen cars: 96.5 ± 3.7\n"
     ]
    }
   ],
   "source": [
    "mean = cars.mean() # Beräkna medelvärde\n",
    "std = cars.std(ddof=1) # Beräkna standardavvikelse\n",
    "n = len(cars) # Bestäm n\n",
    "alpha = 0.1 # Bestäm konfidensgrad alpha\n",
    "\n",
    "t_crit = t.ppf(1-alpha/2, n-1) # Beräkna kritiskt t-värde\n",
    "sem = std / np.sqrt(n)\n",
    "statistic = t_crit * sem # Beräkna t-statistika\n",
    "\n",
    "# Printa resultat\n",
    "print('Confidence interval (\\u03B1=0.1) for average \\'mpg\\' of Ultragreen cars: ' + str(round(mean,1)) + ' \\u00B1 ' + str(round(statistic,1))) # Printa konfidensintervall"
   ]
  },
  {
   "cell_type": "code",
   "execution_count": 4,
   "id": "424fddf0-4937-44f2-a6bb-13194529ca61",
   "metadata": {},
   "outputs": [
    {
     "name": "stdout",
     "output_type": "stream",
     "text": [
      "Confidence interval (α=0.1) for proportion of Ultragreen cars that consume more than 100 mpg: 0.28 ± 0.15\n"
     ]
    }
   ],
   "source": [
    "over_100 = (cars>100).sum() # Summera alla bilar med mpg större än 100\n",
    "p = over_100 / n # Beräkna kvot p\n",
    "alpha = 0.1 # Bestäm konfidensgrad alpha\n",
    "\n",
    "z_crit = norm.ppf(1-alpha/2) # Beräkna kritiskt Z-värde\n",
    "sem = np.sqrt( p*(1-p) / n)\n",
    "statistic = z_crit * sem # Beräkna z-statistika\n",
    "\n",
    "# Printa resultat\n",
    "print('Confidence interval (\\u03B1=0.1) for proportion of Ultragreen cars that consume more than 100 mpg: ' + str(round(p,2)) + ' \\u00B1 ' + str(round(statistic,2))) # Printa konfidensintervall"
   ]
  },
  {
   "cell_type": "code",
   "execution_count": 5,
   "id": "400280c8-81a8-44d2-bc81-81a5d3deb6a0",
   "metadata": {},
   "outputs": [
    {
     "data": {
      "text/plain": [
       "(0.13229251063732272, 0.42770748936267733)"
      ]
     },
     "execution_count": 5,
     "metadata": {},
     "output_type": "execute_result"
    }
   ],
   "source": [
    "# Samma sak som ovan, fast med statsmodels\n",
    "proportion_confint(over_100, len(cars), alpha=0.1, method='normal')"
   ]
  }
 ],
 "metadata": {
  "kernelspec": {
   "display_name": "data-behandlin-cyrille-kolle-IH-hno8Y",
   "language": "python",
   "name": "python3"
  },
  "language_info": {
   "codemirror_mode": {
    "name": "ipython",
    "version": 3
   },
   "file_extension": ".py",
   "mimetype": "text/x-python",
   "name": "python",
   "nbconvert_exporter": "python",
   "pygments_lexer": "ipython3",
   "version": "3.9.13"
  },
  "vscode": {
   "interpreter": {
    "hash": "687cb790cab5c1df02f1d8017d39b24847b850bfcb98624e1903a6099427824d"
   }
  }
 },
 "nbformat": 4,
 "nbformat_minor": 5
}
