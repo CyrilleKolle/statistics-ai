{
 "cells": [
  {
   "cell_type": "markdown",
   "metadata": {},
   "source": [
    "<h1>Kapitel 6 Konfidensintervall</h1>"
   ]
  },
  {
   "cell_type": "code",
   "execution_count": 19,
   "metadata": {},
   "outputs": [],
   "source": [
    "#importera paket\n",
    "import numpy as np\n",
    "import pandas as pd\n",
    "import matplotlib.pyplot as plt\n",
    "import scipy.stats as scs \n",
    "    \n",
    "# Importera Palmer Penguins\n",
    "filepath = './dataset/penguins.csv'\n",
    "penguins = pd.read_csv(filepath)\n",
    "penguins = penguins.dropna() # Plocka bort rader som innehåller NaN"
   ]
  },
  {
   "cell_type": "code",
   "execution_count": 5,
   "metadata": {},
   "outputs": [
    {
     "data": {
      "text/html": [
       "<div>\n",
       "<style scoped>\n",
       "    .dataframe tbody tr th:only-of-type {\n",
       "        vertical-align: middle;\n",
       "    }\n",
       "\n",
       "    .dataframe tbody tr th {\n",
       "        vertical-align: top;\n",
       "    }\n",
       "\n",
       "    .dataframe thead th {\n",
       "        text-align: right;\n",
       "    }\n",
       "</style>\n",
       "<table border=\"1\" class=\"dataframe\">\n",
       "  <thead>\n",
       "    <tr style=\"text-align: right;\">\n",
       "      <th></th>\n",
       "      <th>species</th>\n",
       "      <th>island</th>\n",
       "      <th>bill_length_mm</th>\n",
       "      <th>bill_depth_mm</th>\n",
       "      <th>flipper_length_mm</th>\n",
       "      <th>body_mass_g</th>\n",
       "      <th>sex</th>\n",
       "      <th>year</th>\n",
       "    </tr>\n",
       "  </thead>\n",
       "  <tbody>\n",
       "    <tr>\n",
       "      <th>0</th>\n",
       "      <td>Adelie</td>\n",
       "      <td>Torgersen</td>\n",
       "      <td>39.1</td>\n",
       "      <td>18.7</td>\n",
       "      <td>181.0</td>\n",
       "      <td>3750.0</td>\n",
       "      <td>male</td>\n",
       "      <td>2007</td>\n",
       "    </tr>\n",
       "    <tr>\n",
       "      <th>1</th>\n",
       "      <td>Adelie</td>\n",
       "      <td>Torgersen</td>\n",
       "      <td>39.5</td>\n",
       "      <td>17.4</td>\n",
       "      <td>186.0</td>\n",
       "      <td>3800.0</td>\n",
       "      <td>female</td>\n",
       "      <td>2007</td>\n",
       "    </tr>\n",
       "    <tr>\n",
       "      <th>2</th>\n",
       "      <td>Adelie</td>\n",
       "      <td>Torgersen</td>\n",
       "      <td>40.3</td>\n",
       "      <td>18.0</td>\n",
       "      <td>195.0</td>\n",
       "      <td>3250.0</td>\n",
       "      <td>female</td>\n",
       "      <td>2007</td>\n",
       "    </tr>\n",
       "    <tr>\n",
       "      <th>4</th>\n",
       "      <td>Adelie</td>\n",
       "      <td>Torgersen</td>\n",
       "      <td>36.7</td>\n",
       "      <td>19.3</td>\n",
       "      <td>193.0</td>\n",
       "      <td>3450.0</td>\n",
       "      <td>female</td>\n",
       "      <td>2007</td>\n",
       "    </tr>\n",
       "    <tr>\n",
       "      <th>5</th>\n",
       "      <td>Adelie</td>\n",
       "      <td>Torgersen</td>\n",
       "      <td>39.3</td>\n",
       "      <td>20.6</td>\n",
       "      <td>190.0</td>\n",
       "      <td>3650.0</td>\n",
       "      <td>male</td>\n",
       "      <td>2007</td>\n",
       "    </tr>\n",
       "  </tbody>\n",
       "</table>\n",
       "</div>"
      ],
      "text/plain": [
       "  species     island  bill_length_mm  bill_depth_mm  flipper_length_mm  \\\n",
       "0  Adelie  Torgersen            39.1           18.7              181.0   \n",
       "1  Adelie  Torgersen            39.5           17.4              186.0   \n",
       "2  Adelie  Torgersen            40.3           18.0              195.0   \n",
       "4  Adelie  Torgersen            36.7           19.3              193.0   \n",
       "5  Adelie  Torgersen            39.3           20.6              190.0   \n",
       "\n",
       "   body_mass_g     sex  year  \n",
       "0       3750.0    male  2007  \n",
       "1       3800.0  female  2007  \n",
       "2       3250.0  female  2007  \n",
       "4       3450.0  female  2007  \n",
       "5       3650.0    male  2007  "
      ]
     },
     "execution_count": 5,
     "metadata": {},
     "output_type": "execute_result"
    }
   ],
   "source": [
    "penguins.head()"
   ]
  },
  {
   "cell_type": "markdown",
   "metadata": {},
   "source": [
    "<h3>Exempel: Konfidensintervall för medelvärde</h3>\n",
    "<strong> Konstruera ett 95% konfidensintervall för medelvikten hos pingviner av arten 'Adelie'.</strong> "
   ]
  },
  {
   "cell_type": "markdown",
   "metadata": {},
   "source": [
    "Eftersom $\\sigma$ är okänd kommer vi behöva använda oss av t-statistika. Den beräknas enligt följande formel: \n",
    "<h3>${\\bar x}\\pm t_{\\alpha/2}\\frac{s}{\\sqrt{n}}$</h3>\n",
    "Vi börjar med att importera vårt t-fördelningspaket ur SciPy, och sedan subsetta vår datamängd så vi har det vi är intresserade av, Adelie-pingviner."
   ]
  },
  {
   "cell_type": "code",
   "execution_count": 6,
   "metadata": {},
   "outputs": [],
   "source": [
    "from scipy.stats import t # Importera t-fördelningen ur SciPy\n",
    "\n",
    "adelie = penguins[penguins['species'] == 'Adelie'] # Subsetta data för species = Adelie"
   ]
  },
  {
   "cell_type": "markdown",
   "metadata": {},
   "source": [
    "Sedan kan vi med hjälp av funktioner vi redan är bekanta med enkelt räkna ut värdet på vår t-statistika. Vi kan sedan konstruera själva konfidensintervallet genom att lägga till och dra från statistikans värde från vårt stickprovsmedelvärde."
   ]
  },
  {
   "cell_type": "code",
   "execution_count": 16,
   "metadata": {},
   "outputs": [
    {
     "data": {
      "text/html": [
       "<div>\n",
       "<style scoped>\n",
       "    .dataframe tbody tr th:only-of-type {\n",
       "        vertical-align: middle;\n",
       "    }\n",
       "\n",
       "    .dataframe tbody tr th {\n",
       "        vertical-align: top;\n",
       "    }\n",
       "\n",
       "    .dataframe thead th {\n",
       "        text-align: right;\n",
       "    }\n",
       "</style>\n",
       "<table border=\"1\" class=\"dataframe\">\n",
       "  <thead>\n",
       "    <tr style=\"text-align: right;\">\n",
       "      <th></th>\n",
       "      <th>bill_length_mm</th>\n",
       "      <th>bill_depth_mm</th>\n",
       "      <th>flipper_length_mm</th>\n",
       "      <th>body_mass_g</th>\n",
       "      <th>year</th>\n",
       "    </tr>\n",
       "  </thead>\n",
       "  <tbody>\n",
       "    <tr>\n",
       "      <th>count</th>\n",
       "      <td>146.000000</td>\n",
       "      <td>146.000000</td>\n",
       "      <td>146.000000</td>\n",
       "      <td>146.000000</td>\n",
       "      <td>146.000000</td>\n",
       "    </tr>\n",
       "    <tr>\n",
       "      <th>mean</th>\n",
       "      <td>38.823973</td>\n",
       "      <td>18.347260</td>\n",
       "      <td>190.102740</td>\n",
       "      <td>3706.164384</td>\n",
       "      <td>2008.054795</td>\n",
       "    </tr>\n",
       "    <tr>\n",
       "      <th>std</th>\n",
       "      <td>2.662597</td>\n",
       "      <td>1.219338</td>\n",
       "      <td>6.521825</td>\n",
       "      <td>458.620135</td>\n",
       "      <td>0.811816</td>\n",
       "    </tr>\n",
       "    <tr>\n",
       "      <th>min</th>\n",
       "      <td>32.100000</td>\n",
       "      <td>15.500000</td>\n",
       "      <td>172.000000</td>\n",
       "      <td>2850.000000</td>\n",
       "      <td>2007.000000</td>\n",
       "    </tr>\n",
       "    <tr>\n",
       "      <th>25%</th>\n",
       "      <td>36.725000</td>\n",
       "      <td>17.500000</td>\n",
       "      <td>186.000000</td>\n",
       "      <td>3362.500000</td>\n",
       "      <td>2007.000000</td>\n",
       "    </tr>\n",
       "    <tr>\n",
       "      <th>50%</th>\n",
       "      <td>38.850000</td>\n",
       "      <td>18.400000</td>\n",
       "      <td>190.000000</td>\n",
       "      <td>3700.000000</td>\n",
       "      <td>2008.000000</td>\n",
       "    </tr>\n",
       "    <tr>\n",
       "      <th>75%</th>\n",
       "      <td>40.775000</td>\n",
       "      <td>19.000000</td>\n",
       "      <td>195.000000</td>\n",
       "      <td>4000.000000</td>\n",
       "      <td>2009.000000</td>\n",
       "    </tr>\n",
       "    <tr>\n",
       "      <th>max</th>\n",
       "      <td>46.000000</td>\n",
       "      <td>21.500000</td>\n",
       "      <td>210.000000</td>\n",
       "      <td>4775.000000</td>\n",
       "      <td>2009.000000</td>\n",
       "    </tr>\n",
       "  </tbody>\n",
       "</table>\n",
       "</div>"
      ],
      "text/plain": [
       "       bill_length_mm  bill_depth_mm  flipper_length_mm  body_mass_g  \\\n",
       "count      146.000000     146.000000         146.000000   146.000000   \n",
       "mean        38.823973      18.347260         190.102740  3706.164384   \n",
       "std          2.662597       1.219338           6.521825   458.620135   \n",
       "min         32.100000      15.500000         172.000000  2850.000000   \n",
       "25%         36.725000      17.500000         186.000000  3362.500000   \n",
       "50%         38.850000      18.400000         190.000000  3700.000000   \n",
       "75%         40.775000      19.000000         195.000000  4000.000000   \n",
       "max         46.000000      21.500000         210.000000  4775.000000   \n",
       "\n",
       "              year  \n",
       "count   146.000000  \n",
       "mean   2008.054795  \n",
       "std       0.811816  \n",
       "min    2007.000000  \n",
       "25%    2007.000000  \n",
       "50%    2008.000000  \n",
       "75%    2009.000000  \n",
       "max    2009.000000  "
      ]
     },
     "execution_count": 16,
     "metadata": {},
     "output_type": "execute_result"
    }
   ],
   "source": [
    "adelie.describe()"
   ]
  },
  {
   "cell_type": "code",
   "execution_count": 7,
   "metadata": {},
   "outputs": [],
   "source": [
    "mean = np.mean(adelie['body_mass_g']) # Beräkna medelvärde för stickprovet\n",
    "std = np.std(adelie['body_mass_g'], ddof=1) # Beräkna standardavvikelse för stickprovet\n",
    "n = len(adelie['body_mass_g']) # Beräkna n för stickprovet\n",
    "\n",
    "alpha = 0.05 # Sätt signifikansgrad\n",
    "t_crit = t.ppf(1-alpha/2, n-1) # Beräkna kritiskt t-värde\n",
    "sem = std / np.sqrt(n) # Beräkna medelvärdesstandardfel \n",
    "\n",
    "upper = mean - t_crit * sem # Beräkna under gräns\n",
    "lower = mean + t_crit * sem # Beräkna övre gräns"
   ]
  },
  {
   "cell_type": "code",
   "execution_count": 8,
   "metadata": {},
   "outputs": [
    {
     "data": {
      "text/plain": [
       "(3631.1, 3781.2)"
      ]
     },
     "execution_count": 8,
     "metadata": {},
     "output_type": "execute_result"
    }
   ],
   "source": [
    "round(upper, 1), round(lower, 1) # Avrundning till 1 decimal"
   ]
  },
  {
   "cell_type": "code",
   "execution_count": 9,
   "metadata": {},
   "outputs": [
    {
     "name": "stdout",
     "output_type": "stream",
     "text": [
      "Confidence interval (α=0.05) for average weight of 'Adelie' penguins: 3706.2 ± 75.0\n"
     ]
    }
   ],
   "source": [
    "print('Confidence interval (\\u03B1=0.05) for average weight of \\'Adelie\\' penguins: ' + str(round(mean,1)) + ' \\u00B1 ' + str(round(t_crit*sem,1))) # Printa konfidensintervall"
   ]
  },
  {
   "cell_type": "markdown",
   "metadata": {},
   "source": [
    "<strong>Men, istället för att krångla till det med massa explicita beräkningar så kan vi använda oss av inbyggda funktioner i SciPy.</strong> SciPys t-modul har en schysst funktion för beräkning av konfidensintervall som heter interval(). Vi ger den helt enkelt vårt önskade konfidens (0.95, eller 1-alpha), antalet frihetsgrader, stickprovsmedelvärde, samt stickprovets standard error. Notera här att det är standard error ($s/\\sqrt{n}$) som skall anges, och inte standardavvikelse ($s$). Standard error kan vi räkna ut m.h.a. funktionen <code>sem()</code> i SciPy."
   ]
  },
  {
   "cell_type": "code",
   "execution_count": 10,
   "metadata": {},
   "outputs": [
    {
     "name": "stdout",
     "output_type": "stream",
     "text": [
      "Confidence interval (α=0.05) for average weight of 'Adelie' penguins: 3631.1-3781.2\n"
     ]
    }
   ],
   "source": [
    "sem = scs.sem(adelie['body_mass_g']) # Beräkna standard error med sem()\n",
    "\n",
    "lower, upper = t.interval(confidence=1-alpha, df=n-1, loc=mean, scale=sem) # Beräkna undre samt övre gräns\n",
    "\n",
    "print(f'Confidence interval (\\u03B1=0.05) for average weight of \\'Adelie\\' penguins: {round(lower,1)}-{round(upper,1)}') # Printa konfidensintervall"
   ]
  },
  {
   "cell_type": "markdown",
   "metadata": {},
   "source": [
    "<h3>Konfidensintervall för proportioner</h3>\n",
    "<strong>Kosntruera ett 95% konfidensintervall för hur stor andel pingviner av typen 'Adelie' som lever på ön 'Torgersen'.</strong> \n",
    "Vi inser att uppgiften ber oss räkna ut en proportion, d.v.s. andelen av Adeliepingviner som återfinns på Torgersen-ön. Vi kommer då behöver beräkna test-statistikan för proportioner, som beräknas ur normalfördelningen (Lantz s. 172).\n",
    "<h3>$\\hat{p} \\pm Z_{\\alpha/2}\\sqrt{\\hat{p}(1-\\hat{p})/(n-1)}$</h3>"
   ]
  },
  {
   "cell_type": "markdown",
   "metadata": {},
   "source": [
    "Låt oss börja med att importera normalfördelningen, subsetta vår data, samt göra beräkningen \"för hand\" med kända funktioner ur NumPy och Pandas:"
   ]
  },
  {
   "cell_type": "code",
   "execution_count": 11,
   "metadata": {},
   "outputs": [],
   "source": [
    "from scipy.stats import norm # Importera normalfördelningen ur SciPy\n",
    "\n",
    "torgersen = adelie[adelie['island'] == 'Torgersen'] # Plocka ut Torgersen-pingviner ur 'adelie'\n",
    "\n",
    "p_bar=len(torgersen)/len(adelie) # Beräkna p_bar, dvs gör en stickprovsskattning av proportionen p.\n",
    "n=len(adelie) # beräkna storleken stickprovet\n",
    "alpha=0.05 # Sätt konfidens"
   ]
  },
  {
   "cell_type": "markdown",
   "metadata": {},
   "source": [
    "Test-statistikan $\\hat{p}$ ovan gäller endast då $n\\hat{p}\\geq5$ och $n(1-\\hat{p})\\geq5$, så det är alltid bra att dubbelkolla så man inte är i en domän där ens approximation inte gäller."
   ]
  },
  {
   "cell_type": "code",
   "execution_count": 12,
   "metadata": {},
   "outputs": [
    {
     "data": {
      "text/plain": [
       "(47.0, 99.0)"
      ]
     },
     "execution_count": 12,
     "metadata": {},
     "output_type": "execute_result"
    }
   ],
   "source": [
    "n*p_bar, n*(1-p_bar) # Undersök värden på np och n(1-p) så att normalapproximationen gäller"
   ]
  },
  {
   "cell_type": "code",
   "execution_count": 17,
   "metadata": {},
   "outputs": [
    {
     "data": {
      "text/plain": [
       "(0.4, 0.25)"
      ]
     },
     "execution_count": 17,
     "metadata": {},
     "output_type": "execute_result"
    }
   ],
   "source": [
    "z_crit = norm.ppf(1-alpha/2) # Beräkna kritiskt Z-värde\n",
    "sem = np.sqrt(p_bar*(1-p_bar)/(n-1)) # Beräkna medelvärdesstandardfel\n",
    "\n",
    "upper = p_bar + z_crit*sem # Beräkna undre gräns\n",
    "lower = p_bar - z_crit*sem # Beräkna övre gräns\n",
    "\n",
    "round(upper, 2), round(lower, 2) # Avrunda till 2 decimaler"
   ]
  },
  {
   "cell_type": "code",
   "execution_count": 18,
   "metadata": {},
   "outputs": [
    {
     "name": "stdout",
     "output_type": "stream",
     "text": [
      "Confidence interval (α=0.05) for proportion of Torgersen 'Adelie' penguins relative to total 'Adelie' penguins: 0.32 ± 0.08\n"
     ]
    }
   ],
   "source": [
    "print('Confidence interval (\\u03B1=0.05) for proportion of Torgersen \\'Adelie\\' penguins relative to total \\'Adelie\\' penguins: ' + str(round(p_bar,2)) + ' \\u00B1 ' + str(round(z_crit*sem,2)))"
   ]
  },
  {
   "cell_type": "markdown",
   "metadata": {},
   "source": [
    "Precis som med konfidensintervallet för medelvärde kan vi göra samma sak lite enklare för oss genom att använda en inbyggd funktion. I det här fallet får vi hämta vår funktion ur statsmodels, då SciPy inte verkar ha någon inbyggd funktion för konfidensintervall för proportioner. <code>method='normal'</code> i det här fallet anger att vi har approximativt normalfördelade data."
   ]
  },
  {
   "cell_type": "code",
   "execution_count": 15,
   "metadata": {},
   "outputs": [
    {
     "name": "stdout",
     "output_type": "stream",
     "text": [
      "Confidence interval (α=0.05) for proportion of Torgersen 'Adelie' penguins relative to total 'Adelie' penguins: 0.25-0.4\n"
     ]
    }
   ],
   "source": [
    "from statsmodels.stats import proportion\n",
    "\n",
    "lower, upper = proportion.proportion_confint(len(torgersen), len(adelie), alpha=alpha, method='normal')\n",
    "\n",
    "print(f'Confidence interval (\\u03B1=0.05) for proportion of Torgersen \\'Adelie\\' penguins relative to total \\'Adelie\\' penguins: {round(lower,2)}-{round(upper,2)}') # Printa konfidensintervall"
   ]
  }
 ],
 "metadata": {
  "kernelspec": {
   "display_name": "data-behandlin-cyrille-kolle-IH-hno8Y",
   "language": "python",
   "name": "python3"
  },
  "language_info": {
   "codemirror_mode": {
    "name": "ipython",
    "version": 3
   },
   "file_extension": ".py",
   "mimetype": "text/x-python",
   "name": "python",
   "nbconvert_exporter": "python",
   "pygments_lexer": "ipython3",
   "version": "3.9.13"
  },
  "vscode": {
   "interpreter": {
    "hash": "687cb790cab5c1df02f1d8017d39b24847b850bfcb98624e1903a6099427824d"
   }
  }
 },
 "nbformat": 4,
 "nbformat_minor": 4
}
