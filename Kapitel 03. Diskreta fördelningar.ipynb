{
 "cells": [
  {
   "cell_type": "markdown",
   "id": "48017a7d-98a1-4ea0-991d-eebc514a99e5",
   "metadata": {
    "slideshow": {
     "slide_type": "slide"
    },
    "tags": []
   },
   "source": [
    "<h1>Kapitel 3 - Diskreta fördelningar</h1>\n",
    "Vi kommer här gå igenom några av de fördelningar som vi pratat om under föreläsningen, och hur vi kan implementera och räkna på dem i Python med hjälp av paketet SciPy.<br>\n",
    "Vi börjar med att importera de paket vi behöver. Den här listan kommer ni känna igen snart."
   ]
  },
  {
   "cell_type": "code",
   "execution_count": 1,
   "id": "22ec4c1c-66cf-484d-9296-17f5cbd1b0c6",
   "metadata": {
    "slideshow": {
     "slide_type": "fragment"
    },
    "tags": []
   },
   "outputs": [],
   "source": [
    "# Importera nödvändiga paket\n",
    "import numpy as np\n",
    "import matplotlib.pyplot as plt"
   ]
  },
  {
   "cell_type": "markdown",
   "id": "206602a8-5dd3-42f0-8ab2-4c0a373df232",
   "metadata": {
    "slideshow": {
     "slide_type": "slide"
    },
    "tags": []
   },
   "source": [
    "<h3>Generella funktioner i scipy.stats</h3>\n",
    "Alla fördelningar i SciPy har en rad funktioner kopplade till sig, där vi kan beräkna och ta fram i stort sett alla parametrar vi kan tänkas behöva när vi arbetar med statistik och fördelningar.<br>\n",
    "Några av de vanligast använda funktionerna är:\n",
    "<ul>\n",
    "<li>rvs() - random variates - Den här funktionen ger en NumPy-array med slumpmässiga värden från den givna fördelningen.</li>\n",
    "<li>pmf() - probability mass function - Den här funktionen beräknar sannolikheten P(X=x) i en given punkt.</li>\n",
    "<li>cdf() - cumulative distribution function - Den här funktionen beräknar den kumulativa sannolikheten i en given punkt P(X $\\leq$ x) = F(x).</li>\n",
    "<li>stats() - Den här funktionen beräknar medelvärde, varians, skevhet, samt kurtosis (kurtosis är inte del av kursens innehåll).</li>\n",
    "<li>interval() - Den här funktionen beräknar ett konfidensintervall, kommer mest användas med normal- och t-fördelningen.</li>\n",
    "</ul>"
   ]
  },
  {
   "cell_type": "markdown",
   "id": "aa06cba5-e9f8-4327-9b73-c86a07369392",
   "metadata": {
    "slideshow": {
     "slide_type": "slide"
    },
    "tags": []
   },
   "source": [
    "<h3>Binomialfördelningen</h3>\n",
    "Den första diskreta fördelningen i Lantz är binomialfördelningen. Binomialfördelningen finns i SciPy under beteckningen 'binom'. Vi tar och importerar den."
   ]
  },
  {
   "cell_type": "code",
   "execution_count": 2,
   "id": "19bc0cbe-eaf3-4a6c-9e2c-dff6467f01e0",
   "metadata": {
    "slideshow": {
     "slide_type": "fragment"
    },
    "tags": []
   },
   "outputs": [],
   "source": [
    "from scipy.stats import binom # Importera Binomialfördelningen från SciPy."
   ]
  },
  {
   "cell_type": "markdown",
   "id": "383fa8c6-5eeb-4c7f-b559-f934fca16942",
   "metadata": {
    "slideshow": {
     "slide_type": "subslide"
    },
    "tags": []
   },
   "source": [
    "<h5>Exempel 3-5</h5>\n",
    "Produktionen av en viss elektronisk komponent kännetecknas av att endast vart 10:e exemplar fungerar som det ska. Funktionen hos varje enskilt exemplar är oberoende av huruvida andra exemplar fungerar. Produktionstakten är två minuter per komponent.\n",
    "<ol>\n",
    "    <li>Vad är det förväntade antalet fungerande komponenter av en timmes produktion, och vad är variansen?</li>\n",
    "    <li>Hur sannolikt är det att man har <strong>exakt</strong> 2 fungerande komponenter efter en timmes produktion?</li>\n",
    "    <li>Hur sannolikt är det att man har <strong>minst</strong> 2 fungerande komponenter efter en timmes produktion?</li>"
   ]
  },
  {
   "cell_type": "markdown",
   "id": "2396d889-6e16-42c5-9d12-338a53d23905",
   "metadata": {
    "slideshow": {
     "slide_type": "subslide"
    },
    "tags": []
   },
   "source": [
    "Vi börjar med att definiera våra parametrar för vår fördelning. En binomialfördelning har parameterarna n och p.<br>\n",
    "p är sannolikheten för ett lyckat försök, i det här fallet en fungerande komponent. Eftersom vart 10:e exemplar fungerar som det ska är p = 1/10 = 0.1.<br>\n",
    "n är antalet försök. I det här fallet ska vi utvärdera över en timma, och produktionstakten är 2 minuter. Därav blir n antalet försök inom en timma, 60/2 = 30."
   ]
  },
  {
   "cell_type": "code",
   "execution_count": 3,
   "id": "79ac339a-4ed0-445a-b68e-e28e46210d15",
   "metadata": {
    "slideshow": {
     "slide_type": "fragment"
    },
    "tags": []
   },
   "outputs": [],
   "source": [
    "p = 0.1 # Sannolikheten för ett lyckat exemplar, givet i exemplet.\n",
    "n = 30 # Antalet producerade komponenter på en timme, givet i exemplet genom \n",
    "       # tiden (60 min) dividerat med produktionstiden per komponent (2 min).\n",
    "       # 60/2 = 30"
   ]
  },
  {
   "cell_type": "markdown",
   "id": "b890dd15-c6b4-4c87-ba14-093eb7b26be5",
   "metadata": {
    "slideshow": {
     "slide_type": "subslide"
    },
    "tags": []
   },
   "source": [
    "Uppgift 1. Här använder vi oss av stats() för att beräkna medelvärdet (mean) och variansen (var) för vår fördelningen. När vi kallar på stats() använder vi oss av våra definierade parametrar n och p. Slutligen printar vi ut resultatet."
   ]
  },
  {
   "cell_type": "code",
   "execution_count": 4,
   "id": "f2bad699-fd22-4232-a8d4-6298c10fc7ec",
   "metadata": {
    "slideshow": {
     "slide_type": "fragment"
    },
    "tags": []
   },
   "outputs": [
    {
     "name": "stdout",
     "output_type": "stream",
     "text": [
      "Mean: 3.0\n",
      "Variance: 2.7\n"
     ]
    }
   ],
   "source": [
    "mean, var = binom.stats(n=n, p=p) # Beräkna medelvärde och varians med binom.stats()\n",
    "\n",
    "print('Mean: ' + str(mean)) # Printa medelvärde\n",
    "print('Variance: ' + str(var)) # Printa varians"
   ]
  },
  {
   "cell_type": "markdown",
   "id": "0d79b28f-2a9e-4673-baca-ec80810ad38a",
   "metadata": {
    "slideshow": {
     "slide_type": "subslide"
    },
    "tags": []
   },
   "source": [
    "Uppgift 2. I uppgift 2 skall vi beräkna sannolikheten att vi får utfallet P(X = 2). Vi använder oss av massfunktionen (pmf), och beräknar sannolikheten för vårt utfall k=2."
   ]
  },
  {
   "cell_type": "code",
   "execution_count": 5,
   "id": "c4ee7572-fac4-4184-9846-3bb36f7b5563",
   "metadata": {
    "slideshow": {
     "slide_type": "fragment"
    },
    "tags": []
   },
   "outputs": [
    {
     "name": "stdout",
     "output_type": "stream",
     "text": [
      "P(X=2) = 0.22765622036690183\n"
     ]
    }
   ],
   "source": [
    "result = binom.pmf(k=2, n=n, p=p) # Beräkna sannolikhet P(X=2) med pmf()\n",
    "\n",
    "print('P(X=2) = ' +str(result)) # Printa resultat"
   ]
  },
  {
   "cell_type": "markdown",
   "id": "306f4b21-a903-4e75-8033-d69e9ccf4c0c",
   "metadata": {
    "slideshow": {
     "slide_type": "subslide"
    },
    "tags": []
   },
   "source": [
    "Uppgift 3. I uppgift 3 skall vi beräkna sannolikheten att vi får utfallet P(X$\\geqslant$2). Genom komplementregeln har vi att P(Xc2) är samma sak som 1 - P(X$\\leqslant$1). P(X$\\leqslant$1) kan vi få från kumulativa fördelningsfunktionen (cmf) F(X). Vi evaluerar kumulativa fördelningsfunktionen för k=1 och subtraherar det från den totala sannolikheten 1."
   ]
  },
  {
   "cell_type": "code",
   "execution_count": 6,
   "id": "bd2d4bdb-215f-43ec-920c-2e65e82fbce7",
   "metadata": {
    "slideshow": {
     "slide_type": "fragment"
    },
    "tags": []
   },
   "outputs": [
    {
     "name": "stdout",
     "output_type": "stream",
     "text": [
      "P(X>=2) = 0.8163049808073962\n"
     ]
    }
   ],
   "source": [
    "result = 1 - binom.cdf(k=1, n=n, p=p) # Beräkna sannolikhet P(X>=2) med cdf()\n",
    "\n",
    "print('P(X>=2) = ' +str(result)) # Printa resultat"
   ]
  },
  {
   "cell_type": "markdown",
   "id": "dfa43ab9-f223-49f4-88c0-f2dd4b290844",
   "metadata": {
    "slideshow": {
     "slide_type": "slide"
    },
    "tags": []
   },
   "source": [
    "<h3>Poissonfördelningen</h3>\n",
    "Precis som med binomialfördelningen så finns Poissonfördelningen i SciPy. Vi importerar den för nästa exempel."
   ]
  },
  {
   "cell_type": "code",
   "execution_count": 7,
   "id": "bf0ef90e-7027-46ea-bbfa-2b2d703eb64f",
   "metadata": {
    "slideshow": {
     "slide_type": "fragment"
    },
    "tags": []
   },
   "outputs": [],
   "source": [
    "from scipy.stats import poisson # Importera Poissonfördelningen från SciPy."
   ]
  },
  {
   "cell_type": "markdown",
   "id": "86fb7216-2895-4a3d-8053-8ce3314db745",
   "metadata": {
    "slideshow": {
     "slide_type": "subslide"
    },
    "tags": []
   },
   "source": [
    "<h5>Exempel 3-6</h5>\n",
    "En viss typ av motor till en maskin går sönder var 1000:e gång den startas. Per månad startas motorn 200 gånger.\n",
    "<ol>\n",
    "    <li>Hur många gånger går motorn i medeltal sönder per år?</li>\n",
    "    <li>Hur sannolikt är det att den går sönder <strong>exakt</strong> 3 gånger ett visst år</li>\n",
    "    <li>Hur sannolikt är det att den går sönder <strong>högst</strong> 1 gång ett visst år?</li>"
   ]
  },
  {
   "cell_type": "markdown",
   "id": "2a63e642-827d-4bea-a85d-1aad529faca0",
   "metadata": {
    "slideshow": {
     "slide_type": "fragment"
    },
    "tags": []
   },
   "source": [
    "Vi gör som tidigare att vi först definierar paramterarna för vår fördelning. Formellt sett följer vår data en binomialfördelning med p = 0.001 och n = 2400 (200*12). Men eftersom n > 10, p < 0.1, samt E(X) = 2.4 (alltså mellan 0.1-50) kan vi approximera vår datamängd med en Poissonfördelning med $\\mu$ = E(X) = 2.4."
   ]
  },
  {
   "cell_type": "code",
   "execution_count": 8,
   "id": "34d0af57-3191-4407-ae56-7af5f17573ab",
   "metadata": {
    "slideshow": {
     "slide_type": "fragment"
    },
    "tags": []
   },
   "outputs": [],
   "source": [
    "mu = 2.4 # Sätt mu till E(X) = 2.4"
   ]
  },
  {
   "cell_type": "markdown",
   "id": "16f3dddb-17c2-4f92-9016-58e8dfa46d2e",
   "metadata": {
    "slideshow": {
     "slide_type": "subslide"
    },
    "tags": []
   },
   "source": [
    "Uppgift 1. Här kan vi, likt den förra uppgiften, använda oss av stats() för att räkna ut medelvärdet. Vi har dock en Posissonfördelning, som definieras utifrån sitt väntevärde $\\mu$, så vi behöver egentligen heller göra den här beräkningen, eftersom vi redan har värdet på $\\mu$ = 2.4. <br>\n",
    "Eftersom det är en poissonfördelning kommer medelvärdet och variansen ha samma värde."
   ]
  },
  {
   "cell_type": "code",
   "execution_count": 9,
   "id": "4beefe0c-df74-48de-baa6-d1b19b0efa6b",
   "metadata": {
    "slideshow": {
     "slide_type": "fragment"
    },
    "tags": []
   },
   "outputs": [
    {
     "name": "stdout",
     "output_type": "stream",
     "text": [
      "Mean: 2.4\n",
      "Variance: 2.4\n"
     ]
    }
   ],
   "source": [
    "mean, var = poisson.stats(mu=mu) # Beräkna medelvärde och varians med binom.stats()\n",
    "\n",
    "print('Mean: ' + str(mean)) # Printa medelvärde\n",
    "print('Variance: ' + str(var)) # Printa varians"
   ]
  },
  {
   "cell_type": "markdown",
   "id": "df768390-1e8f-452c-a47f-55cd442855c6",
   "metadata": {
    "slideshow": {
     "slide_type": "subslide"
    },
    "tags": []
   },
   "source": [
    "Uppgift 2. Här behöver vi beräkna sannolikheten P(X=3), det gör vi med massfunktionen pmf()."
   ]
  },
  {
   "cell_type": "code",
   "execution_count": 10,
   "id": "4f4d3151-2642-4747-82f0-097144731f83",
   "metadata": {
    "slideshow": {
     "slide_type": "fragment"
    },
    "tags": []
   },
   "outputs": [
    {
     "name": "stdout",
     "output_type": "stream",
     "text": [
      "P(X=3) = 0.20901416437880638\n"
     ]
    }
   ],
   "source": [
    "result = poisson.pmf(k=3, mu=mu) # Beräkna P(X=3) med pmf()\n",
    "\n",
    "print('P(X=3) = ' +str(result)) # Printa resultat"
   ]
  },
  {
   "attachments": {},
   "cell_type": "markdown",
   "id": "c28aeb0e-af83-47ab-a28d-c4fc1a3caa82",
   "metadata": {
    "slideshow": {
     "slide_type": "subslide"
    },
    "tags": []
   },
   "source": [
    "Uppgift 3. Här behöver vi beräkna sannolikheten P(X$\\leq$1) vilket fås ur fördelningsfunktionen F(X) för F(X=1). Det beräknar vi med hjälp av cdf()"
   ]
  },
  {
   "cell_type": "code",
   "execution_count": 11,
   "id": "ce4b5fe7-b352-4da1-9354-fbbb88ad4db7",
   "metadata": {
    "slideshow": {
     "slide_type": "fragment"
    },
    "tags": []
   },
   "outputs": [
    {
     "name": "stdout",
     "output_type": "stream",
     "text": [
      "P(X<=1) = 0.30844104118400245\n"
     ]
    }
   ],
   "source": [
    "result = poisson.cdf(k=1, mu=mu) # Beräkna sannolikheten P(X<=1) med cdf()\n",
    "\n",
    "print('P(X<=1) = ' +str(result)) # Printa resultat"
   ]
  },
  {
   "cell_type": "markdown",
   "id": "99f4c274-a45a-4886-809e-a1bcfa5abc7d",
   "metadata": {
    "slideshow": {
     "slide_type": "slide"
    },
    "tags": []
   },
   "source": [
    "<h3>Hypergeometriska fördelningen</h3>\n",
    "Hypergeometriska fördelningen importeras från SciPy som hypergeom. <br>\n",
    "Dokumentationen för hypergeometriska fördelningen finns <a href=https://docs.scipy.org/doc/scipy/reference/generated/scipy.stats.hypergeom.html>här</a>"
   ]
  },
  {
   "cell_type": "code",
   "execution_count": 12,
   "id": "a455c5c7-d35e-4a53-bc9d-fb2fd3012471",
   "metadata": {
    "slideshow": {
     "slide_type": "fragment"
    },
    "tags": []
   },
   "outputs": [],
   "source": [
    "from scipy.stats import hypergeom # Importera hypergeometriska fördelningen från SciPy"
   ]
  },
  {
   "cell_type": "markdown",
   "id": "67a60aad-bc93-45f6-ab0f-3b0367fa54b6",
   "metadata": {
    "slideshow": {
     "slide_type": "subslide"
    },
    "tags": []
   },
   "source": [
    "<h5>Exempel 3-7</h5>\n",
    "I en viss aktieklubb med ett stort antal medlemmar sätter man ihop sin aktieportfölj genom att slumpmässigt välja ut exakt 5 av 10 möjliga högriskföretag. I efterhand visade det sig att 2 av de 10 företagen gick i konkurs. Hur stor är sannolikheten att en viss medlem hade minst ett konkursföretag med i sin portfölj?"
   ]
  },
  {
   "cell_type": "markdown",
   "id": "25e46eff-4bdf-4e58-ba30-b9229f4e1dc3",
   "metadata": {
    "slideshow": {
     "slide_type": "fragment"
    },
    "tags": []
   },
   "source": [
    "Vi börjar som innan med att bestämma parametrarna för vår fördelning. Här får vi passa oss lite, för Lantz använder andra bokstäver för sina parametrar jämfört med SciPy. Om vi läser i dokumentationen ovan, ser vi att det totala antalet objekt betecknas med 'M', antalet objekt vi är intresserade av betecknas med 'n', och antalet dragna objekt (utan återläggning) ges av 'N'.<br>\n",
    "Från vår uppgift har vi att antalet totala objekt är M = 10. Antalet objekt vi är intresserade av är n = 2. Och antalet dragna objekt är N = 5. I Lantz bok kallas de här parametrarna R, N och n, vilket är väldigt förvirrande. En lärdom här är att alltid kolla dokumentationen för funktioner man använder sig av!"
   ]
  },
  {
   "cell_type": "code",
   "execution_count": 13,
   "id": "675bd00b-e8df-438a-9661-f5cad0c9c07d",
   "metadata": {
    "slideshow": {
     "slide_type": "fragment"
    },
    "tags": []
   },
   "outputs": [],
   "source": [
    "M = 10 # Antalet totala objekt\n",
    "n = 2 # Antalet objekt vi är intresserade av\n",
    "N = 5 # Antalet dragna objekt"
   ]
  },
  {
   "cell_type": "markdown",
   "id": "109c5a22-dc4d-4626-9a3f-fe3dca2782c1",
   "metadata": {
    "slideshow": {
     "slide_type": "slide"
    },
    "tags": []
   },
   "source": [
    "Nu behöver vi beräkna sannolikheten att en viss medlem hade minst ett konkursföretag i sin portfölj. Den ges av P(X$\\geqslant$1), vilket är samma sak som F(1). Vi kan alltså beräkna sannolikheten med hjälp av kumulativa fördelningsfunktionen cmf()."
   ]
  },
  {
   "cell_type": "code",
   "execution_count": 14,
   "id": "28cfcd56-0ebe-4fc5-9124-61e5ae417ba3",
   "metadata": {
    "slideshow": {
     "slide_type": "fragment"
    },
    "tags": []
   },
   "outputs": [
    {
     "name": "stdout",
     "output_type": "stream",
     "text": [
      "P(X<=1) = 0.7777777777777777\n"
     ]
    }
   ],
   "source": [
    "result = hypergeom.cdf(k=1, M=M, n=n, N=N) # Beräkna P(X>=1) med cdf()\n",
    "\n",
    "print('P(X<=1) = ' +str(result)) # Printa resultat"
   ]
  },
  {
   "cell_type": "markdown",
   "id": "b4103a47-79e4-4313-82eb-72df53133873",
   "metadata": {
    "slideshow": {
     "slide_type": "slide"
    },
    "tags": []
   },
   "source": [
    "<h3>Geometriska fördelningen</h3>\n",
    "Geometriska fördelnigen importeras från SciPy som 'geom'.\n",
    "Dokumentationen för geometriska fördelningen finns <a href=https://docs.scipy.org/doc/scipy/reference/generated/scipy.stats.geom.html>här</a>"
   ]
  },
  {
   "cell_type": "code",
   "execution_count": 15,
   "id": "1afe3be3-bb85-4baf-850a-b074ee2ceba1",
   "metadata": {
    "slideshow": {
     "slide_type": "fragment"
    },
    "tags": []
   },
   "outputs": [],
   "source": [
    "from scipy.stats import geom # Importera geometriska fördelningen med SciPy"
   ]
  },
  {
   "cell_type": "markdown",
   "id": "1008906a-6518-4916-8ec0-f945e91e050b",
   "metadata": {
    "slideshow": {
     "slide_type": "fragment"
    },
    "tags": []
   },
   "source": [
    "<h5>Exempel 3-8</h5>\n",
    "Kajsa har just tagit sin civilekonomexamen, och tänker börja söka jobb. Hon söker jobb ett och ett, och hon har sannolikheten 0.1 att få jobb vid varje enskild ansökan.\n",
    "<ol>\n",
    "    <li>Hur många jobb kan hon förväntas behöva söka innan hon får ett?</li>\n",
    "    <li>Hur sannolikt är det att hon får jobb på fjärde försöket?</li>\n",
    "    <li>Hur många jobb måste hon vara beredd på att söka för att vara minst 50% säker på att få jobb?</li>\n",
    "</ol>\n",
    "Vi börjar med att bestämma parametrarna för fördelningen. För den geometriska fördelningen är det enkelt, den har en parameter 'p' som bestämmer sannolikheten för ett lyckat försök. I vårt fall är p = 0.1."
   ]
  },
  {
   "cell_type": "code",
   "execution_count": 16,
   "id": "9c87de8a-61d7-4c71-b08c-42e46834d8a5",
   "metadata": {
    "slideshow": {
     "slide_type": "fragment"
    },
    "tags": []
   },
   "outputs": [],
   "source": [
    "p = 0.1 # Sannolikheten för ett lyckat försök"
   ]
  },
  {
   "cell_type": "markdown",
   "id": "cbeb8895-26b9-450f-a64d-03e0226d9bb7",
   "metadata": {
    "slideshow": {
     "slide_type": "subslide"
    },
    "tags": []
   },
   "source": [
    "Uppgift 1. Hur många jobb Kajsa kan förväntas söka innan hon får ett ges av väntevärdet E(X). Det kan vi beräkna m.h.a. stats()."
   ]
  },
  {
   "cell_type": "code",
   "execution_count": 17,
   "id": "eae94d20-1ee7-4527-aff2-09701845ead8",
   "metadata": {
    "slideshow": {
     "slide_type": "fragment"
    },
    "tags": []
   },
   "outputs": [
    {
     "name": "stdout",
     "output_type": "stream",
     "text": [
      "Mean :10.0\n"
     ]
    }
   ],
   "source": [
    "mean, var = geom.stats(p=p) # Beräkna väntevärdet för X~G(p)\n",
    "\n",
    "print('Mean :' +str(mean)) # Printa resultatet"
   ]
  },
  {
   "cell_type": "markdown",
   "id": "af7ca796-3285-42fe-9660-9d464aab9661",
   "metadata": {
    "slideshow": {
     "slide_type": "subslide"
    },
    "tags": []
   },
   "source": [
    "Uppgift 2. Hur sannolikt det är att Kajsa får jobb på fjärde försöket ges av P(X=4), det beräknar vi ur massfunktionen pmf()."
   ]
  },
  {
   "cell_type": "code",
   "execution_count": 18,
   "id": "f3effc7d-7d77-417f-9854-52f5b4fda4ea",
   "metadata": {
    "slideshow": {
     "slide_type": "fragment"
    },
    "tags": []
   },
   "outputs": [
    {
     "name": "stdout",
     "output_type": "stream",
     "text": [
      "P(X=4) = 0.0729\n"
     ]
    }
   ],
   "source": [
    "result = geom.pmf(k=4, p=p) # Beräkna P(X=4)\n",
    "\n",
    "print('P(X=4) = ' +str(result)) # Printa resultat"
   ]
  },
  {
   "cell_type": "markdown",
   "id": "d62d75e1-d27d-454e-a25a-df7363f45273",
   "metadata": {
    "slideshow": {
     "slide_type": "subslide"
    },
    "tags": []
   },
   "source": [
    "Uppgift 3. Hur många jobb hon måste söka för att vara minst 50% säker på att få ett jobb räknar Lantz ut genom att göra en tabell över alla F(X) tills resultatet blir högre än 0.5. Ett annat sätt att göra det är att lösa uppgiften grafiskt genom att plotta fördelningen och se var F(X) blir högre än 0.5."
   ]
  },
  {
   "cell_type": "code",
   "execution_count": 19,
   "id": "6eae390c-b9fd-4df0-aaf8-a9294bcd704d",
   "metadata": {
    "slideshow": {
     "slide_type": "fragment"
    },
    "tags": []
   },
   "outputs": [
    {
     "data": {
      "image/png": "[encoded data removed]",
      "text/plain": [
       "<Figure size 300x200 with 1 Axes>"
      ]
     },
     "metadata": {},
     "output_type": "display_data"
    }
   ],
   "source": [
    "x = np.linspace(0,10,1000) # Generera en array med x-värden från 0-10\n",
    "y = geom.cdf(k=x, p=p) # Räkna ut värdet på kumulativa fördelningsfunktionen för varje x\n",
    "\n",
    "fig, ax = plt.subplots() # Skapa en plot med matplotlib\n",
    "fig.set_figheight(2) # Sätt figurhöjd\n",
    "fig.set_figwidth(3) # Sätt figurbredd\n",
    "\n",
    "ax.plot(x,y) # Plotta x vs y\n",
    "plt.xlabel('Antal sökta jobb') # Sätt label x-axel\n",
    "plt.ylabel('Sannolikhet') # Sätt label y-axel\n",
    "plt.show() # Visa plotten"
   ]
  },
  {
   "cell_type": "markdown",
   "id": "f6bb2070-2209-4af4-99a3-17688245437b",
   "metadata": {
    "slideshow": {
     "slide_type": "fragment"
    },
    "tags": []
   },
   "source": [
    "Vi ser här att sannolikheten når över 0.5 vid ungefär X = 7."
   ]
  },
  {
   "cell_type": "markdown",
   "id": "98cbdbd2-5caa-448f-9d2d-48361f25bb6a",
   "metadata": {
    "slideshow": {
     "slide_type": "slide"
    },
    "tags": []
   },
   "source": [
    "<h3>Negativa binomialfördelningen</h3>\n",
    "Här tänker jag att det är dags att testa på att arbeta själva. Jag har skrivit ett skal som ni kan utgå ifrån.<br>\n",
    "Dokumentationen för negativa binomialfördelningen hittar ni <a href=https://docs.scipy.org/doc/scipy/reference/generated/scipy.stats.nbinom.html>här</a>."
   ]
  },
  {
   "cell_type": "raw",
   "id": "3c465cae-cf2f-4d75-9c33-87fbd3081961",
   "metadata": {
    "slideshow": {
     "slide_type": "fragment"
    },
    "tags": []
   },
   "source": [
    "from ? import ? # Importera negativa binomialfördelningen från SciPy"
   ]
  },
  {
   "cell_type": "code",
   "execution_count": 20,
   "id": "4255820e",
   "metadata": {},
   "outputs": [],
   "source": [
    "from scipy.stats import nbinom"
   ]
  },
  {
   "cell_type": "markdown",
   "id": "102680e4-6502-4490-a05e-cbcc1fec4183",
   "metadata": {
    "slideshow": {
     "slide_type": "subslide"
    },
    "tags": []
   },
   "source": [
    "<h5>Exempel 3-9</h5>\n",
    "Produktionen av en viss elektronisk komponent på AB Nakio misslyckas i 60% av fallen, varvid den defekta komponenten måste kasseras. Man ska leverera 3 exemplar av den aktuella komponenten till en kund, och inget av exemplaren får vara defekt.\n",
    "<ol>\n",
    "    <li>Vad är det förväntade antalet komponenter som måste produceras för att man ska få fram 3 fungerande exemplar? Vad är variansen?</li>\n",
    "    <li>Hur sannolikt är det att det räcker att tillverka 3 komponenter för att få fram 3 fungerande? (Fundera på om du behöver använda formeln för negativ binomialfördelning).</li>\n",
    "    <li>Hur sannolikt är det att man måste tillverka exakt 7 komponenter för att få fram 3 fungerande?</li>\n",
    "</ol>"
   ]
  },
  {
   "cell_type": "markdown",
   "id": "8f40510a-43e6-473a-83b6-6b78d7be78bf",
   "metadata": {
    "slideshow": {
     "slide_type": "fragment"
    },
    "tags": []
   },
   "source": [
    "Börja med att sätta parametrarna för fördelningen. Vilka parametrar i Lantz bok motsvarar de i SciPy? Har Lantz och SciPy-dokumentation parametriserat (definierat) fördelningens massfunktion på samma sätt?"
   ]
  },
  {
   "cell_type": "code",
   "execution_count": 25,
   "id": "3d49098c-4ab7-4fa6-952c-c2119725d0f0",
   "metadata": {
    "slideshow": {
     "slide_type": "fragment"
    },
    "tags": []
   },
   "outputs": [
    {
     "name": "stdout",
     "output_type": "stream",
     "text": [
      "7.499999999999999\n",
      "11.249999999999996\n"
     ]
    }
   ],
   "source": [
    "n = 3\n",
    "p = 0.4\n",
    "mean, var = nbinom.stats(n=n,p=p, loc=n)\n",
    "print(mean)\n",
    "print(var)"
   ]
  },
  {
   "cell_type": "markdown",
   "id": "d7363b11-2916-43b8-86be-9b54dd773936",
   "metadata": {
    "slideshow": {
     "slide_type": "skip"
    },
    "tags": []
   },
   "source": [
    "Uppgift 1. Beräkna väntevärdet och variansen för fördelningen."
   ]
  },
  {
   "cell_type": "raw",
   "id": "77ead5de-a0a5-4d2e-8702-0d529306234d",
   "metadata": {
    "slideshow": {
     "slide_type": "skip"
    },
    "tags": []
   },
   "source": [
    "mean, var = ? # Beräkna väntevärdet och variansen\n",
    "\n",
    "print('Mean: ' +str(result))\n",
    "print('Variance: ' +str(result))"
   ]
  },
  {
   "cell_type": "markdown",
   "id": "a1f5eff0-721b-40bf-8c15-b979c5dd8c8d",
   "metadata": {
    "slideshow": {
     "slide_type": "skip"
    },
    "tags": []
   },
   "source": [
    "Uppgift 2. Beräkna sannolikheten att de 3 första exemplaren är fungerande. Det här ges av p^3 = 0.4^3 = 0.064."
   ]
  },
  {
   "cell_type": "markdown",
   "id": "ea452877-d8d8-4917-862e-9e4356f06efe",
   "metadata": {
    "slideshow": {
     "slide_type": "skip"
    },
    "tags": []
   },
   "source": [
    "Uppgift 3. Här behöver vi räkna ut P(X=7). Använd massfunktionen för negativa binomialfördelningen!"
   ]
  },
  {
   "cell_type": "raw",
   "id": "c7c33805-ccf2-458e-a042-7942cc31459d",
   "metadata": {
    "slideshow": {
     "slide_type": "skip"
    },
    "tags": []
   },
   "source": [
    "result = ? # Beräkna P(X=7)\n",
    "\n",
    "print('P(X=7) = ' +str(result))"
   ]
  }
 ],
 "metadata": {
  "kernelspec": {
   "display_name": "Python 3.9.13 ('data-behandlin-cyrille-kolle-IH-hno8Y')",
   "language": "python",
   "name": "python3"
  },
  "language_info": {
   "codemirror_mode": {
    "name": "ipython",
    "version": 3
   },
   "file_extension": ".py",
   "mimetype": "text/x-python",
   "name": "python",
   "nbconvert_exporter": "python",
   "pygments_lexer": "ipython3",
   "version": "3.9.13"
  },
  "vscode": {
   "interpreter": {
    "hash": "687cb790cab5c1df02f1d8017d39b24847b850bfcb98624e1903a6099427824d"
   }
  }
 },
 "nbformat": 4,
 "nbformat_minor": 5
}
