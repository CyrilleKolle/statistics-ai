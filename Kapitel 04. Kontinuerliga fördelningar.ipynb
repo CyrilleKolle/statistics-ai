{
 "cells": [
  {
   "cell_type": "markdown",
   "id": "e70df41a-2403-46eb-acfa-1b280a3672e3",
   "metadata": {},
   "source": [
    "<h1>Kapitel 4 - Kontinuerliga fördelningar</h1>\n",
    "Vi kommer här gå igenom några av de fördelningar som vi pratat om under föreläsningen, och hur vi kan implementera och räkna på dem i Python med hjälp av paketet SciPy.<br>\n",
    "Stora delar av det här kommer ni känna igen från förra notebooken 'Kapitel 3. Diskreta fördelningar'."
   ]
  },
  {
   "cell_type": "code",
   "execution_count": 1,
   "id": "70a854c8-e535-4b80-bda1-9c29479e6e53",
   "metadata": {},
   "outputs": [],
   "source": [
    "# Importera nödvändiga paket\n",
    "import numpy as np\n",
    "import matplotlib.pyplot as plt"
   ]
  },
  {
   "cell_type": "markdown",
   "id": "b2be5b6e-b0e3-45d7-9d6b-890233e9333f",
   "metadata": {},
   "source": [
    "<h3>Generella funktioner i scipy.stats</h3>\n",
    "Alla fördelningar i SciPy har en rad funktioner kopplade till sig, där vi kan beräkna och ta fram i stort sett alla parametrar vi kan tänkas behöva när vi arbetar med statistik och fördelningar.<br>\n",
    "Några av de vanligast använda funktionerna är:\n",
    "<ul>\n",
    "<li>rvs() - random variates - Den här funktionen ger en NumPy-array med slumpmässiga värden från den givna fördelningen.</li>\n",
    "<li>pdf() - probability density function - Den här funktionen beräknar täthetsfunktionen i en given punkt.</li>\n",
    "<li>cdf() - cumulative distribution function - Den här funktionen beräknar den kumulativa sannolikheten i en given punkt P(X <= x) = F(x).</li>\n",
    "<li>stats() - Den här funktionen beräknar medelvärde, varians, skevhet, samt kurtosis (ej del av kursens innehåll).</li>\n",
    "<li>interval() - Den här funktionen beräknar ett konfidensintervall, kommer mest användas med normal- och t-fördelningen.</li>\n",
    "</ul>"
   ]
  },
  {
   "cell_type": "markdown",
   "id": "9bde3b2d-f665-4491-a90c-0f681131e5a2",
   "metadata": {},
   "source": [
    "<h5>Exponentialfördelningen</h5>\n",
    "Först beskriver Lantz exponentialfördelningen. Den förekommer i många sammanhang där tid eller avstånd mellan slumpmässiga händelser förekommer, t.ex.:\n",
    "<ul>\n",
    "    <li>Tiden tills någon råkar ut för sin nästa bilolycka</li>\n",
    "    <li>Tiden tills någon får sitt nästa telefonsamtal</li>\n",
    "    <li>Avståndet mellan mutationer på en DNA-sträng</li>\n",
    "</ul>\n",
    "Exponentialfördelningen finns i SciPy som 'expon'. Dokumentationen går att läsa <a href=https://docs.scipy.org/doc/scipy/reference/generated/scipy.stats.expon.html>här</a>."
   ]
  },
  {
   "cell_type": "code",
   "execution_count": 2,
   "id": "b001e0d1-e9a6-468f-bb6b-bbde908367c9",
   "metadata": {},
   "outputs": [],
   "source": [
    "from scipy.stats import expon # Importera exponentialfördelningen från SciPy"
   ]
  },
  {
   "cell_type": "markdown",
   "id": "56a83c0b-ab45-4b80-9e6e-a7fc2f355aee",
   "metadata": {},
   "source": [
    "<h5>Exempel 4-2</h5>\n",
    "En viss maskin påstås ha en så hög driftsäkerhet att den endast måste repareras i genomsnitt 0.5 gånger per år. Anta att detta är sant.\n",
    "<ol>\n",
    "    <li>Hur sannolikt är det att tiden mellan två på varandra följande reparationer är längre än 1.5 år?</li>\n",
    "    <li>Hur sannolikt är det att denna tid är kortare än 5 år?</li>\n",
    "</ol>\n",
    "    "
   ]
  },
  {
   "cell_type": "markdown",
   "id": "5a4c612c-70e2-41f0-890a-bfd7fe6a8652",
   "metadata": {},
   "source": [
    "Låt X vara en slumpvariabel som betecknar tiden i år mellan varje reparation. Om den repareras i snitt en gång vartannat år blir då väntevärdet E(X) = 2. Vi kan alltså beskriva vår exponentialfördelning med väntevärdesparametern $\\mu$ = 2. I SciPy är täthetsfunktionen definierad som f(x) = exp(-x), för att parametrisera den som Lantz gör sätter vi helt enkelt parametern 'scale' till vårt väntevärde $\\mu$."
   ]
  },
  {
   "cell_type": "code",
   "execution_count": 3,
   "id": "b90cf162-6cdc-4d4f-86b0-e885a2f053ec",
   "metadata": {},
   "outputs": [],
   "source": [
    "mu = 2 # Sätt mu till väntevärdet E(X) = 2"
   ]
  },
  {
   "cell_type": "markdown",
   "id": "086da759-02ff-4d73-8557-f9f13bc49510",
   "metadata": {},
   "source": [
    "Uppgift 1. Här behöver vi beräkna sannolikheten för P(X > 1.5), vilket enligt komplementregeln är samma sak som 1 - P(X$\\leqslant$1.5), vilket vi i sin tur kan beräkna med kumulativa fördelningsfunktionen enligt: 1 - F(1.5)"
   ]
  },
  {
   "cell_type": "code",
   "execution_count": 4,
   "id": "414c1eb4-a8f8-4bc3-b455-cab0939d4196",
   "metadata": {},
   "outputs": [
    {
     "name": "stdout",
     "output_type": "stream",
     "text": [
      "P(X > 1.5): 0.4723665527410147\n"
     ]
    }
   ],
   "source": [
    "result = 1 - expon.cdf(x=1.5, scale=mu) # Beräkna P(X > 1.5) genom 1 - P(X <= 1.5)\n",
    "\n",
    "print(f'P(X > 1.5): {result}') # Printa resultat"
   ]
  },
  {
   "cell_type": "markdown",
   "id": "230e6944-c275-4305-82fd-0622caf692c6",
   "metadata": {},
   "source": [
    "Uppgift 2. Här får vi sannolikheten direkt ur kumulativa fördelningsfunktionen för P(X<5) = F(5)"
   ]
  },
  {
   "cell_type": "code",
   "execution_count": 5,
   "id": "7a57b598-f997-4be7-ac6c-cdba6618d990",
   "metadata": {},
   "outputs": [
    {
     "name": "stdout",
     "output_type": "stream",
     "text": [
      "P(X <= 5): 0.9179150013761012\n"
     ]
    }
   ],
   "source": [
    "result = expon.cdf(x=5, scale=mu) # Beräkna P(X < 5) genom F(5)\n",
    "\n",
    "print(f'P(X <= 5): {result}') # Printa resultat"
   ]
  },
  {
   "cell_type": "markdown",
   "id": "d7ed80ef-1e53-4750-a9f9-e14504f81fc8",
   "metadata": {},
   "source": [
    "<h3>Normalfördelningen</h3>\n",
    "Normalfördelningen i SciPy är parametriserad utifrån standardnormalfördelningen. Vi kan utifrån den här \"flytta\" på normalfördelningen med parametrarna 'loc' och 'scale', där loc är medelvärdet $\\mu$, och scale är standardavvikelsen $\\sigma$."
   ]
  },
  {
   "cell_type": "code",
   "execution_count": 6,
   "id": "0017a9c3-1c39-49f1-b1e3-6a8de4b5caae",
   "metadata": {},
   "outputs": [],
   "source": [
    "from scipy.stats import norm # Importera normalfördelningen från SciPy"
   ]
  },
  {
   "cell_type": "markdown",
   "id": "27dcc177-2654-4784-bf27-49247b84648d",
   "metadata": {},
   "source": [
    "Om parametrarna 'loc' och 'scale' känns lite konstiga mot vad vi är vana vid, så kan vi se vad de faktiskt betyder. 'loc' står för location, och bestämmer helt enkelt var på x-axeln vår normalfördelning är centrerad. 'scale' är vilken skala den har, eller om man så vill, hur bred vår fördelning är, och därmed ett mått på spridningen. Vi testar att plotta en normalfördelad variabel med $\\mu$ = 6 och $\\sigma$ = 2."
   ]
  },
  {
   "cell_type": "code",
   "execution_count": 7,
   "id": "b64b5781-3cff-43a0-b743-6eb203b9d2cf",
   "metadata": {},
   "outputs": [
    {
     "data": {
      "image/png": "[encoded data removed]",
      "text/plain": [
       "<Figure size 300x300 with 1 Axes>"
      ]
     },
     "metadata": {},
     "output_type": "display_data"
    }
   ],
   "source": [
    "x = np.linspace(-5,14,1000) # Skapa en x-variabel x1 mellan -5-14 med 1000 värden.\n",
    "y = norm.pdf(x=x, loc=6, scale=2) # Beräkna värdet för y genom normalfördelningen (mu = 6, sigma = 2)\n",
    "\n",
    "fig, ax = plt.subplots() # Skapa en plot med matplotlib\n",
    "fig.set_figheight(3) # Sätt figurhöjd\n",
    "fig.set_figwidth(3) # Sätt figurbredd\n",
    "\n",
    "ax.plot(x,y) # Plotta x vs y\n",
    "plt.show() # Visa plotten"
   ]
  },
  {
   "cell_type": "markdown",
   "id": "3c921622-c839-4a7c-b966-1116310c4bf5",
   "metadata": {},
   "source": [
    "Om vi nu tar och jämför vår normalfördelade variabel med standardnormalfördelningen:"
   ]
  },
  {
   "cell_type": "code",
   "execution_count": 8,
   "id": "84573fb2-1a1b-459e-9038-ba35f010c3cb",
   "metadata": {},
   "outputs": [
    {
     "data": {
      "image/png": "[encoded data removed]",
      "text/plain": [
       "<Figure size 300x300 with 1 Axes>"
      ]
     },
     "metadata": {},
     "output_type": "display_data"
    }
   ],
   "source": [
    "x = np.linspace(-5,14,1000) # Skapa en x-variabel mellan -5-14 med 1000 värden.\n",
    "y1 = norm.pdf(x=x, loc=6, scale=2)\n",
    "y2 = norm.pdf(x=x)\n",
    "\n",
    "fig, ax = plt.subplots() # Skapa en plot med matplotlib\n",
    "fig.set_figheight(3) # Sätt figurhöjd\n",
    "fig.set_figwidth(3) # Sätt figurbredd\n",
    "\n",
    "ax.plot(x,(y1)) # Plotta x vs y1\n",
    "ax.plot(x,(y2)) # Plotta x vs y2\n",
    "plt.show() # Visa plotten"
   ]
  },
  {
   "cell_type": "markdown",
   "id": "3c9a99f2-fe28-45a2-b2f7-2a59309ab04e",
   "metadata": {},
   "source": [
    "Här ser vi att vår omskalning av normalfördelningen med parametrarna loc = 6 och scale = 2 har flyttat centrum på fördelningen till loc (location) = 6. Den har också breddat fördelningen från scale = 1 (default) till scale = 2."
   ]
  },
  {
   "cell_type": "markdown",
   "id": "2e602996-aa8a-43c5-9603-d6a0a0a7398b",
   "metadata": {},
   "source": [
    "<h5>Exempel 4-4</h5>\n",
    "Ett projekt består av tre aktiviteter, A, B och C, där B påbörjas så snart A är avslutad och där C påbörjas så snart B är avslutad. Tidsåtgången, uttryckt i månader, för dessa aktiviteter är normalfördelade slumpvariabler: XA~(7,3), XB~(6,4), XC~(9,5). Vad är väntevärdet och standardavvikelsen för den totala projekttiden? Vi räknar ut respektive medelvärde med mean(), och sedan varianser med var().<br>\n",
    "\n",
    "OBS! Kom ihåg att standardavvikelser inte kan adderas. Vi räknar alltså först ut variansen (varianser kan adderas), och räknar utifrån den ut standardavvikelsen."
   ]
  },
  {
   "cell_type": "code",
   "execution_count": 9,
   "id": "cd71ad6c-69c6-4390-b051-57914053e86f",
   "metadata": {},
   "outputs": [
    {
     "name": "stdout",
     "output_type": "stream",
     "text": [
      "Mean: 22.0\n",
      "StDev: 7.0710678118654755\n",
      "StDev is not equal to: 12.0\n"
     ]
    }
   ],
   "source": [
    "mean = norm.mean(7,3)+norm.mean(6,4)+norm.mean(9,5) # Beräkna medelvärdet för de tre normalfördelningarnas medelvärden.\n",
    "variance = norm.var(7,3)+norm.var(6,4)+norm.var(9,5) # Beräkna variansen för de tre normafördleningarnas varianser\n",
    "stdev = np.sqrt(variance) # Beräkna standardavvikelsen ur variansen.\n",
    "\n",
    "stdev_failed = norm.std(7,3)+norm.std(6,4)+norm.std(9,5) # Beräkna standardavvikelsen på \"fel sätt\"\n",
    "\n",
    "\n",
    "print('Mean: ' +str(mean)) # Printa medelvärde\n",
    "print('StDev: ' +str(stdev)) # Printa standardavvikelse\n",
    "print('StDev is not equal to: ' +str(stdev_failed)) # Printa felaktig standardavvikelse"
   ]
  },
  {
   "cell_type": "markdown",
   "id": "6ad97d66-1f15-4c35-ba57-36c32589dbcf",
   "metadata": {},
   "source": [
    "<h5>Exempel 4-5</h5>"
   ]
  },
  {
   "cell_type": "markdown",
   "id": "49c165c4-988e-4cef-b456-917086404533",
   "metadata": {},
   "source": [
    "Antag att man är intresserad av P(-1<Z<1.5). Hur kan man använda standardnormalfördelningen för att ta reda på denna sannolikhet?\n",
    "Här blir det tydligt att det här går att lösa väldigt mycket enklare än det gör i exemplet, nu när vi har tillgång till den kumulativa fördelningsfunktionen F(x). Vi vet att för kumulativa fördelningsfunktionen F(x) gäller P(X<=x). Vi kan då konstatera att sannolikheten att Z antar värden mellan -1 och 1.5 ges av P(X<=1.5) - P(X<=-1).<br>\n",
    "Eftersom normalfördelningen i SciPy är parametriserad som standardnormalfördelningen Z, behöver vi inte lägga in varken $\\mu$ eller $\\sigma$, utan kan helt enkelt bara evaluera cdf() i 1.5. och -1.0."
   ]
  },
  {
   "cell_type": "code",
   "execution_count": 10,
   "id": "29b564fa-cf5b-49a1-9f3e-e7529910d809",
   "metadata": {},
   "outputs": [
    {
     "name": "stdout",
     "output_type": "stream",
     "text": [
      "Result: 0.7745375447996848\n"
     ]
    }
   ],
   "source": [
    "result = norm.cdf(1.5) - norm.cdf(-1.0) # Beräkna sannolikhet för P(-1 < Z < 1.5)\n",
    "\n",
    "print(f'Result: {result}') # Printa resultat"
   ]
  },
  {
   "cell_type": "markdown",
   "id": "70dbac88-893e-4e91-9c0f-c62dfc8ecfa5",
   "metadata": {},
   "source": [
    "<h5>Exempel 4-5 (ja, en gång till)</h5>\n",
    "Längden på kvinnor (och även män) i ett visst samhäller är som regel en approximativt normalfördelad slumpvariabel. Antag att detta gäller svenska kvinnor och att de i genomsnitt är 167 cm långa med standardavvikelsen 6 cm.\n",
    "<ol>\n",
    "    <li>Hur stor andel av kvinnorna är mer än 10 cm längre än genomsnittet?</li>\n",
    "    <li>Hur stor andel av kvinnorna är mellan 163 och 170 cm?</li>\n",
    "</ol>"
   ]
  },
  {
   "cell_type": "markdown",
   "id": "aab8b90b-cafa-48f8-8b36-b0c383d66c63",
   "metadata": {},
   "source": [
    "Uppgift 1. Här behöver vi transformera vår normalfördelade slumpvariabel till standardnormalfördelningen Z. Det gör vi i SciPy genom att sätta värden på $\\mu$ och $\\sigma$. Sedan kan vi beräkna sannolikheten för att kvinnorna skall vara mer än 10 cm längre än genomsnittet genom att utvärdera cdf() för P(X<=177). Eftersom vi vill ha sannolikheten P(X>177) tar vi enligt komplementregeln: 1 - P(X<=177)."
   ]
  },
  {
   "cell_type": "code",
   "execution_count": 11,
   "id": "6961e9ff-d118-4062-a0f5-54a97049e60b",
   "metadata": {},
   "outputs": [],
   "source": [
    "loc = 167 # Sätt medelvärdet 'loc' till 167\n",
    "scale = 6 # Sätt standardavvikelsen 'scale' till 6"
   ]
  },
  {
   "cell_type": "code",
   "execution_count": 12,
   "id": "f4284256-f849-4add-b0fc-848f543800a1",
   "metadata": {},
   "outputs": [
    {
     "name": "stdout",
     "output_type": "stream",
     "text": [
      "Result: 0.047790352272814696\n"
     ]
    }
   ],
   "source": [
    "result = 1 - norm.cdf(loc=loc, scale=scale, x=177) # Beräkna 1 - P(X <= 177)\n",
    "\n",
    "print(f'Result: {result}') # Printa resultat"
   ]
  },
  {
   "cell_type": "markdown",
   "id": "9c836901-3fcf-4f1d-8580-afb5181fbe4e",
   "metadata": {},
   "source": [
    "Uppgift 2. Här gör vi på samma sätt, fast vi använder oss av lärdomen från Exempel 4-4. Vi beräknar alltså P(X<=170) - P(X<=163)."
   ]
  },
  {
   "cell_type": "code",
   "execution_count": 13,
   "id": "ee08a5d6-c838-4845-93ed-23c2faf1d8d1",
   "metadata": {},
   "outputs": [
    {
     "name": "stdout",
     "output_type": "stream",
     "text": [
      "Result: 0.4389699237270902\n"
     ]
    }
   ],
   "source": [
    "result = norm.cdf(loc=loc, scale=scale, x=170) - norm.cdf(loc=loc, scale=scale, x=163) # Beräkna P(X <= 170) - P(X <= 163)\n",
    "\n",
    "print(f'Result: {result}') # Printa resultat"
   ]
  },
  {
   "cell_type": "code",
   "execution_count": null,
   "id": "50f23931-db68-46f0-a14c-5a23757c3638",
   "metadata": {},
   "outputs": [],
   "source": []
  }
 ],
 "metadata": {
  "kernelspec": {
   "display_name": "Python 3.9.13 ('data-behandlin-cyrille-kolle-IH-hno8Y')",
   "language": "python",
   "name": "python3"
  },
  "language_info": {
   "codemirror_mode": {
    "name": "ipython",
    "version": 3
   },
   "file_extension": ".py",
   "mimetype": "text/x-python",
   "name": "python",
   "nbconvert_exporter": "python",
   "pygments_lexer": "ipython3",
   "version": "3.9.13"
  },
  "vscode": {
   "interpreter": {
    "hash": "687cb790cab5c1df02f1d8017d39b24847b850bfcb98624e1903a6099427824d"
   }
  }
 },
 "nbformat": 4,
 "nbformat_minor": 5
}
