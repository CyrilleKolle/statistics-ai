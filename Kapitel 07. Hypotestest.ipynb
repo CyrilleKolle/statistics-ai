{
 "cells": [
  {
   "cell_type": "markdown",
   "id": "eca8e61c-6770-42e6-bb3a-ae5e281283ed",
   "metadata": {},
   "source": [
    "<h1>Kapitel 7 Hypotesprövning</h1>"
   ]
  },
  {
   "cell_type": "code",
   "execution_count": 1,
   "id": "db78492d-cf8b-4eca-b0e2-366395dd701c",
   "metadata": {},
   "outputs": [],
   "source": [
    "#importera paket och exempeldata \n",
    "import numpy as np\n",
    "import pandas as pd\n",
    "import matplotlib.pyplot as plt\n",
    "import seaborn as sns\n",
    "import scipy.stats as scs\n",
    "\n",
    "#Importera Palmer Penguins\n",
    "filepath = 'c:/users/davber/Python/notebooks/data/penguins.csv'\n",
    "penguins = pd.read_csv(filepath)\n",
    "penguins = penguins.dropna() # Plocka bort rader som innehåller NaN"
   ]
  },
  {
   "cell_type": "markdown",
   "id": "e06bdb1f-4aaa-483f-b1a1-596cb6780c99",
   "metadata": {},
   "source": [
    "<h3>Exempel: Hypotestest för stickprovsmedelvärde med okänt sigma</h3>\n",
    "<h5>Konstruera ett hypotestest som undersöker om längden på simfenorna för Gentoo-pingviner skiljer sig från längden på simfenor för alla pingviner (antag att populationsmedelvärdet $\\mu_0$ = 216 mm). Använd en signifikansnivå på $\\alpha = 0.05$.</h5>\n",
    "Eftersom standardavvikelsen för populationen är okänd, kommer vi här använda oss av ett t-test."
   ]
  },
  {
   "cell_type": "code",
   "execution_count": 2,
   "id": "bd6bb704-a5b5-4a10-af7c-a5de405d36a7",
   "metadata": {},
   "outputs": [],
   "source": [
    "from scipy.stats import t # Importera t-fördelningen ur SciPy"
   ]
  },
  {
   "cell_type": "markdown",
   "id": "d594e734-b860-4f98-847a-9240d4464386",
   "metadata": {},
   "source": [
    "Vi börjar med att bestämma alternativhypotesen som:<br>\n",
    "    $H_A: \\mu \\neq 216\\,mm$<br>\n",
    "Och sedan nollhypotesen som dess komplement:<br>\n",
    "    $H_0: \\mu = 216\\,mm$"
   ]
  },
  {
   "cell_type": "markdown",
   "id": "8f6704bd-1845-4494-8f92-0c36fe9ac7cd",
   "metadata": {},
   "source": [
    "Sedan, beräknar vi teststatistikan för vår nollhypotes, d.v.s:\n",
    "<h3>\n",
    "$t = \\frac{\\overline{X} - \\mu_0}{s \\,/\\sqrt{n}}$\n",
    "</h3>"
   ]
  },
  {
   "cell_type": "markdown",
   "id": "806c5892-8b7f-4864-a6ff-cdc44ab6dec0",
   "metadata": {},
   "source": [
    "<h5>Det här kan vi göra på lite olika sätt. Först kan vi göra det med klassiska beräkningsmetoder vi kan i NumPy.</h5>"
   ]
  },
  {
   "cell_type": "code",
   "execution_count": 3,
   "id": "9a75f4ed-1f9d-45f6-aa5d-016e83c66471",
   "metadata": {},
   "outputs": [
    {
     "name": "stdout",
     "output_type": "stream",
     "text": [
      "Test statistic: 2.0462546347545207\n",
      "p-value: 0.042953438535436206\n"
     ]
    }
   ],
   "source": [
    "gentoo = penguins[penguins['species'] == 'Gentoo'] # Subsetta data på species = Gentoo\n",
    "sample = gentoo['flipper_length_mm'] # Välj ut kolonnen 'flipper_length_mm' som 'sample'.\n",
    "\n",
    "xbar = sample.mean() # Beräkna stickprovsmedelvärde\n",
    "mu = 216 # Sätt mu till värde för nollhypotesen\n",
    "std = sample.std(ddof=1) # beräkna standardavvikelsen för stickprovet\n",
    "n = len(sample) # beräkna storleken på stickprovet\n",
    "\n",
    "statistic = (xbar - mu) / (std / np.sqrt(n)) # Beräkna värdet på test-statistiskan\n",
    "print('Test statistic: ' +str(statistic)) # Printa test-statistikan\n",
    "\n",
    "p_value = 1 - t.cdf(x=statistic, df=n-1) # Beräkna p-värdet för stick provet som 1 - F(x=statistic)\n",
    "print('p-value: ' + str(2*p_value)) # Printa p-värdet (2x beräknat värde p.g.a. två-sidigt test."
   ]
  },
  {
   "cell_type": "markdown",
   "id": "0f6c0ec6-3791-4de5-b08f-12a356abab15",
   "metadata": {},
   "source": [
    "<h5>Det finns också inbyggda funktioner för t.ex. t-test i SciPy, ni ska vi använda oss utav en av dem, vilket gör hela operationen mycket enklare.</h5>\n",
    "Vi använder oss av den inbyggda funktionen ttest_1samp(), vilken beräknar t-test statistiska samt dess p-värde givet ett set data och ett populationsmedelvärde. Vi använder oss här av alternative='two-sided', vilket ger oss det dubbel-sidiga testet för att vårt stickprovsmedelvärde är skilt från populationsmedelvärdet.<br>\n",
    "Dokumentationen till ttest_1samp() hittar vi <a href=https://docs.scipy.org/doc/scipy/reference/generated/scipy.stats.ttest_1samp.html>här</a>."
   ]
  },
  {
   "cell_type": "code",
   "execution_count": 4,
   "id": "312cc494-4dd1-4fda-b979-0a2905c0ba69",
   "metadata": {},
   "outputs": [
    {
     "name": "stdout",
     "output_type": "stream",
     "text": [
      "Ttest_1sampResult(statistic=2.0462546347545207, pvalue=0.042953438535436136)\n"
     ]
    }
   ],
   "source": [
    "result = scs.ttest_1samp(a=sample, popmean=mu, alternative='two-sided') # Genomför två-sidigt t-test m.h.a. ttest_1samp() i SciPy \n",
    "\n",
    "print(result) # Printa resultatet"
   ]
  },
  {
   "cell_type": "markdown",
   "id": "c3b7b36f-02d5-4075-af84-79eb4f38540f",
   "metadata": {},
   "source": [
    "Att använda den här funktionen blir väldigt praktiskt om vi t.ex. vill ändra på vår nollhypotes, låt säga att vi undrar om medelvärdet är större än 216 istället (en en-sidig nollhypotes). Vi ändrar då bara alternative till 'greater'. Vi vet sen tidigare att det här egentligen mest bara lägger till en faktor 1/2 på p-värdet. På samma sätt kan vi också ändra till 'less', vilket då beräknar utifrån nollhypotesen att stickprovsmedelvärdet är mindre än populationsmedelvärdet."
   ]
  },
  {
   "cell_type": "code",
   "execution_count": 5,
   "id": "992da54b-0d43-4582-929d-28b6e941e531",
   "metadata": {},
   "outputs": [
    {
     "name": "stdout",
     "output_type": "stream",
     "text": [
      "Ttest_1sampResult(statistic=2.0462546347545207, pvalue=0.021476719267718068)\n"
     ]
    }
   ],
   "source": [
    "result = scs.ttest_1samp(a=sample, popmean=mu, alternative='greater') # Genomför ensidigt t-test.\n",
    "\n",
    "print(result) # Printa resultatet"
   ]
  },
  {
   "cell_type": "markdown",
   "id": "5d698b36-de10-4107-88fc-6bae17afa410",
   "metadata": {},
   "source": [
    "Eftersom $p=0.043 < \\alpha = 0.05$ kan vi med 95% konfidensgrad förkasta nollhypotesen att simfenelängden för Gentoo är samma som för alla pingviner. Testet stödjer alltså tesen att Gentoo-pingviner har en simfenelängd som skiljer sig från övriga pingviner."
   ]
  },
  {
   "cell_type": "markdown",
   "id": "58f434b7-1ab5-4882-9f08-ab4095e501d2",
   "metadata": {},
   "source": [
    "<h3>Exempel: Hypotestest för proportioner</h3>\n",
    "<h5>Konstruera ett hypotestest som undersöker om mindre än en tredjedel av alla Adeliepingviner återfinns på Biscoe Island. Använd ett signifikansvärde på $\\alpha=0.1$</h5>\n",
    "För proportionstest använder vi oss av standardnormalfördelningen Z, så vi börjar med att importera den från SciPy."
   ]
  },
  {
   "cell_type": "code",
   "execution_count": 6,
   "id": "e8752556-9b04-4ea7-9051-ce6567bdbac7",
   "metadata": {},
   "outputs": [],
   "source": [
    "from scipy.stats import norm # Importera normalfördelningen från SciPy"
   ]
  },
  {
   "cell_type": "markdown",
   "id": "58f5d1be-ad11-4547-aab0-ea96d60de69d",
   "metadata": {},
   "source": [
    "Sedan formulerar vi vår alternativhypotes som:<br>\n",
    "    <h4>$H_A: p < 1/3$</h4>\n",
    "Sedan formulerar vi vår nollhypotes som:<br>\n",
    "    <h4>$H_0: p \\geq 1/3$</h4>\n",
    "    \n",
    "Sedan beräknar vi test-statistikan för vår hypotes, som ges av:<br>\n",
    "\n",
    "<h3>$Z = \\frac{\\hat{p}-p_0}{\\sqrt{p_0(1-p_0)/n}}$</h3>"
   ]
  },
  {
   "cell_type": "markdown",
   "id": "104c368e-c8c5-405d-8fba-5195b61b5514",
   "metadata": {},
   "source": [
    "Först, med NumPy-metoder:"
   ]
  },
  {
   "cell_type": "code",
   "execution_count": 7,
   "id": "5260565a-88a3-441c-8bde-eca6c4f224b7",
   "metadata": {},
   "outputs": [
    {
     "name": "stdout",
     "output_type": "stream",
     "text": [
      "Test statistic: -0.8192880303729139\n",
      "p-value: 0.206311050048959\n"
     ]
    }
   ],
   "source": [
    "adelie = penguins[penguins['species'] == 'Adelie']\n",
    "adelie_biscoe = adelie[adelie['island'] == 'Biscoe']\n",
    "\n",
    "p_sample = len(adelie_biscoe) / len(adelie)\n",
    "p_pop = 1/3\n",
    "n = len(adelie)\n",
    "\n",
    "statistic = (p_sample - p_pop) / np.sqrt(p_pop*(1-p_pop)/n)\n",
    "print('Test statistic: ' +str(statistic))\n",
    "\n",
    "p_value = norm.cdf(statistic)\n",
    "print('p-value: ' + str(p_value))"
   ]
  },
  {
   "cell_type": "markdown",
   "id": "6a136f82-2f51-4e0e-881a-8a0c811afa9f",
   "metadata": {},
   "source": [
    "Låt oss nu göra det med en inbyggd funktion. Det finns inget Z-test för proportioner i SciPy, utan vi får importera ett från statsmodels istället."
   ]
  },
  {
   "cell_type": "code",
   "execution_count": 8,
   "id": "03a9986c-fc50-44d4-b4f1-bfcd580f54f6",
   "metadata": {},
   "outputs": [],
   "source": [
    "from statsmodels.stats import proportion"
   ]
  },
  {
   "cell_type": "markdown",
   "id": "2415d9ae-4f8e-4dba-b5f8-1e021a52ce04",
   "metadata": {},
   "source": [
    "Här använder vi oss av testet proportions_ztest(), dokumentationen för den här funktionen hittar ni <a href=https://www.statsmodels.org/stable/generated/statsmodels.stats.proportion.proportions_ztest.html>här</a>. Vi använder oss av alternative='smaller', eftersom vår alternativhypotes är att p är <strong>mindre</strong> än 1/3. "
   ]
  },
  {
   "cell_type": "code",
   "execution_count": 9,
   "id": "93b55800-870c-4eb2-8db1-17c4f79a14fb",
   "metadata": {},
   "outputs": [
    {
     "name": "stdout",
     "output_type": "stream",
     "text": [
      "(-0.8192880303729139, 0.206311050048959)\n"
     ]
    }
   ],
   "source": [
    "result = proportion.proportions_ztest(count=len(adelie_biscoe), nobs=len(adelie), value=p_pop, prop_var=p_pop, alternative='smaller')\n",
    "print(result)"
   ]
  },
  {
   "cell_type": "markdown",
   "id": "faf5ea5b-c0e4-48ae-aa4a-aca33da168c4",
   "metadata": {},
   "source": [
    "Eftersom $p = 0.21 > \\alpha=0.1$ kan vi inte förkasta nollhypotesen. Det betyder, att vi med en signifikansnivå på 0.1, inte kan säga att mindre än en tredjedel av alla Adelie-pingviner finns på Biscoeisland. "
   ]
  },
  {
   "cell_type": "markdown",
   "id": "7de3dc6b-62ce-4fa6-9171-fc085973b3f9",
   "metadata": {},
   "source": [
    "<h3>Överkurs: Hypotestest för varians</h3>\n",
    "Varianstest med $\\chi^2$-fördelningen kommer inte att ingå i kursens examinationsmoment. Det är med i notebooken här som ett exempel för de som vill lära sig mer utöver det kursen går igenom. Att hypotesttesta med $\\chi^2$-fördelningen tillför lite krångel, eftersom $\\chi^2$-fördelningen inte är symmetrisk. Man kan alltså inte för ett två-sidigt test räkna på ett p-värde och sedan multiplicera det med en faktor två.\n"
   ]
  },
  {
   "cell_type": "markdown",
   "id": "6995367a-2e39-4976-9d77-203a22643679",
   "metadata": {},
   "source": [
    "<h5>Konstruera ett hypotestest som undersöker om vikten hos Chinstrap-pingviner har mindre varians än vikten hos Adelie-pingviner (antag att variansen för Adelie-pingviner är känd som $\\sigma^2_0 = 200000$). Använd en signifikansnivå på $\\alpha = 0.01$.</h5>\n",
    "Test på varians kan vi göra med hjälp av $\\chi^2$-fördelningen. Den finns att importera från SciPy."
   ]
  },
  {
   "cell_type": "code",
   "execution_count": 10,
   "id": "a4926740-f94a-4ac0-acce-9d0a8a7ef32e",
   "metadata": {},
   "outputs": [],
   "source": [
    "from scipy.stats import chi2"
   ]
  },
  {
   "cell_type": "markdown",
   "id": "1d496fca-6f58-41be-bc8a-8e292722e6bf",
   "metadata": {},
   "source": [
    "Sedan formulerar vi vår alternativhypotes som:<br>\n",
    "    <h4>$H_A: \\sigma^2 < \\sigma_0^2$</h4>\n",
    "Och då blir vår nollhypotes:<br>\n",
    "    <h4>$H_0: \\sigma^2 \\geq \\sigma_0^2$</h4>\n",
    "    \n",
    "Sedan beräknar vi test-statistikan för vår hypotes, som ges av:<br>\n",
    "\n",
    "<h3>$\\chi^2 = \\frac{(n-1)S^2}{\\sigma_0^2}$</h3><br>\n",
    "Här får vi enbart räkna på det med NumPy, då det inte finns någon väldistribuerad testfunktion för chi2-test av varians (vad jag vet!) :"
   ]
  },
  {
   "cell_type": "code",
   "execution_count": 11,
   "id": "f905795a-0310-4eda-9722-6e93fb5b40a9",
   "metadata": {},
   "outputs": [
    {
     "name": "stdout",
     "output_type": "stream",
     "text": [
      "Test statistic: 49.48400735294117\n",
      "p-value: 0.05362242488307268\n"
     ]
    }
   ],
   "source": [
    "chinstrap = penguins[penguins['species'] == 'Chinstrap']\n",
    "\n",
    "s_2 = chinstrap['body_mass_g'].var(ddof=1)\n",
    "s_0 = 2e5\n",
    "n = len(chinstrap)\n",
    "\n",
    "statistic = (n-1) * s_2 / s_0\n",
    "print('Test statistic: ' +str(statistic))\n",
    "\n",
    "p_value = chi2.cdf(x=statistic, df=n-1)\n",
    "print('p-value: ' + str(p_value))"
   ]
  },
  {
   "cell_type": "markdown",
   "id": "a3e5bfea-b2e0-4502-b449-1d5b028c3346",
   "metadata": {},
   "source": [
    "Eftersom p-värdet $p=0.054 > \\alpha=0.05$ så kan vi inte förkasta nollhypotesen. Vi kan alltså inte, med en signifikansnivå på 0.05, säga att variansen för Chinstrappingviners kroppsvikt är mindre än den hos Adeliepingviner (under antagande att den variansen är känd som 2e5)."
   ]
  },
  {
   "cell_type": "markdown",
   "id": "bc2f3c36-0cd7-4f70-8974-4b131c7a3aa1",
   "metadata": {},
   "source": [
    "<h3>Exempel på hur en funktion som utför hypotestest för varians skulle kunna skrivas:</h3>\n",
    "Här använder vi en omvänd metod för att avgöra om nollhypotesen kan förkastas. Istället för att beräkna p-värdet vid ett beräknat värde på teststatistikan, så räknar vi ut vad teststatistiskan hade varit med ett givet p-värde. Detta görs med funktionen <code>ppf()</code>, som är inversen till <code>cdf()</code>. <code>ppf(alpha, n-1)</code> ger alltså värdet på test-statistikan $\\chi^2$ vid en signifikansnivå $\\alpha=0.05$. Se om du förstår hur nedanstående funktion fungerar!"
   ]
  },
  {
   "cell_type": "code",
   "execution_count": 12,
   "id": "d282618f-fbb3-4fbb-a681-686aa0785fe3",
   "metadata": {},
   "outputs": [],
   "source": [
    "import numpy as np\n",
    "from scipy.stats import chi2\n",
    "\n",
    "def var_test(x, va0, direction = \"lower\", alpha = 0.05):\n",
    "    n = len(x)\n",
    "    Q = (n - 1) * np.var(x,ddof=1) / va0 \n",
    "    if direction == \"lower\":\n",
    "        q = chi2.ppf(alpha, n - 1)\n",
    "        if Q <= q:\n",
    "            return \"H_0 rejected\", Q\n",
    "        else:\n",
    "            return \"H_0 not rejected\", Q\n",
    "    elif direction == \"upper\":\n",
    "        q = chi2.ppf(1-alpha, n - 1)\n",
    "        if Q >= q:\n",
    "            return \"H_0 rejected\", Q\n",
    "        else:\n",
    "            return \"H_0 not rejected\", Q\n",
    "    else:\n",
    "        q1 = chi2.ppf(alpha/2, n - 1)\n",
    "        q2 = chi2.ppf(1-(alpha/2), n - 1)\n",
    "        if Q <= q1 or Q >= q2:\n",
    "            return \"H_0 rejected\", Q\n",
    "        else:\n",
    "            return \"H_0 not rejected\", Q"
   ]
  },
  {
   "cell_type": "code",
   "execution_count": 13,
   "id": "68bad70c-6b96-4775-b563-c1f2ed3f547c",
   "metadata": {},
   "outputs": [
    {
     "data": {
      "text/plain": [
       "('H_0 not rejected', 49.48400735294117)"
      ]
     },
     "execution_count": 13,
     "metadata": {},
     "output_type": "execute_result"
    }
   ],
   "source": [
    "chinstrap_mass = chinstrap['body_mass_g']\n",
    "\n",
    "var_test(chinstrap_mass, va0 = 2e5, direction='lower')"
   ]
  }
 ],
 "metadata": {
  "kernelspec": {
   "display_name": "Python 3 (ipykernel)",
   "language": "python",
   "name": "python3"
  },
  "language_info": {
   "codemirror_mode": {
    "name": "ipython",
    "version": 3
   },
   "file_extension": ".py",
   "mimetype": "text/x-python",
   "name": "python",
   "nbconvert_exporter": "python",
   "pygments_lexer": "ipython3",
   "version": "3.11.0"
  }
 },
 "nbformat": 4,
 "nbformat_minor": 5
}
