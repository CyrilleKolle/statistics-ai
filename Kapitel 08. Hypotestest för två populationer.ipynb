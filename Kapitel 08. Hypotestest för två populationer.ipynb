{
 "cells": [
  {
   "cell_type": "markdown",
   "metadata": {},
   "source": [
    "<h1>Kapitel 8 - Hypotestest för två populationer</h1>\n",
    "Här kommer vi gå igenom hur man kan beräkna test-statistiskor, samt utföra test, för jämförelse mellan två populationer, med hjälp av olika paket i Python. Vi börjar med att importera lite standardpaket och ladda in vår favorit-data, Palmer Penguins."
   ]
  },
  {
   "cell_type": "code",
   "execution_count": 1,
   "metadata": {},
   "outputs": [],
   "source": [
    "#importera paket och exempeldata \n",
    "import numpy as np\n",
    "import pandas as pd\n",
    "\n",
    "filepath = 'c:/users/davber/Python/notebooks/data/penguins.csv'\n",
    "penguins = pd.read_csv(filepath)\n",
    "penguins = penguins.dropna() # Plocka bort rader som innehåller NaN"
   ]
  },
  {
   "cell_type": "markdown",
   "metadata": {},
   "source": [
    "<h3>Hypotestest för varians mellan två populationer</h3>\n",
    "<h5>Konstruera ett hypotestest som undersöker om variansen vad gäller näbblängd är större för han- än för honpingviner. Använd en signifikansnivå på $\\alpha = 0.05$</h5>\n",
    "Vi börjar med att formulera våra hypoteser. Här vill vi göra ett ensidigt test mellan två varianser $\\sigma^2_1$ och $\\sigma^2_2$. Vi anger vår alternativhypotes som att $\\sigma^2_{hane}$ är större än, $\\sigma^2_{hona}$ alltså:<br>\n",
    "    $H_A: \\sigma^2_{hane} > \\sigma^2_{hona}$<br>\n",
    "Det följer att nollhypotesen, alltså komplementet till alternativhypotesen då blir:<br>\n",
    "    $H_0: \\sigma^2_{hane} \\leq \\sigma^2_{hona}$\n",
    "<br><br>\n",
    "Vi delar upp vårt ursprungsdataset i två delar, en som innehåller alla hanpingviner och en som innehåller alla honpingviner."
   ]
  },
  {
   "cell_type": "code",
   "execution_count": 2,
   "metadata": {},
   "outputs": [],
   "source": [
    "male = penguins[penguins['sex'] == 'male']\n",
    "female = penguins[penguins['sex'] == 'female']\n",
    "\n",
    "n_male = len(male)\n",
    "n_female = len(female)"
   ]
  },
  {
   "cell_type": "markdown",
   "metadata": {},
   "source": [
    "Nästa steg är att beräkna testfunktionen, i fallet med två varianser är det enkelt. Den ges av:\n",
    "<h4>\n",
    "    $F=\\frac{\\sigma^2_1}{\\sigma^2_2}$\n",
    "</h4>\n",
    "\n",
    "Vi kan alltså lätt räkna ut den med våra kända NumPy-metoder enligt följande:"
   ]
  },
  {
   "cell_type": "code",
   "execution_count": 3,
   "metadata": {},
   "outputs": [
    {
     "name": "stdout",
     "output_type": "stream",
     "text": [
      "F-statistic: 1.1979487109657414\n"
     ]
    }
   ],
   "source": [
    "statistic = np.var(male['bill_length_mm'], ddof=1) / np.var(female['bill_length_mm'], ddof=1)\n",
    "print('F-statistic: ' + str(statistic))"
   ]
  },
  {
   "cell_type": "markdown",
   "metadata": {},
   "source": [
    "Vi kan jämföra den med det kritiska värdet för vår F-fördelning (givet $\\alpha = 0.05$) genom att hämta F-fördelningen i SciPy och kika i dess kumulativa fördelningsfunktion:"
   ]
  },
  {
   "cell_type": "code",
   "execution_count": 4,
   "metadata": {},
   "outputs": [
    {
     "name": "stdout",
     "output_type": "stream",
     "text": [
      "F-critical :0.7739172769072281\n"
     ]
    }
   ],
   "source": [
    "from scipy.stats import f\n",
    "\n",
    "result = f.ppf(q=0.05, dfn=n_male-1, dfd=n_female-1)\n",
    "print('F-critical :' +str(result))"
   ]
  },
  {
   "cell_type": "markdown",
   "metadata": {},
   "source": [
    "Värdet på vår beräknade F-statistika (1.20) är högre än det kritiska värdet (0.77), och vi kan därmed förkasta nollhypotesen. Utifrån vårt test kan vi alltså konstatera att med ett konfidens på 95%, så skiljer sig variansen i näbblängd åt mellan han- och honpingviner.<br><br>\n",
    "\n",
    "Här föreligger tyvärr samma problem som med två-sidiga varianstester från chi2-fördelningen, alltså att jag inte känner till någon distribuerad funktion som gör ett sådant här test åt en. Den som vill utmana sig kan försöka bygga en funktion som utför ett sådant här test! För något att utgå ifrån finns ett liknande program i notebook 7, som utför ett chi2-test för varians. "
   ]
  },
  {
   "cell_type": "markdown",
   "metadata": {},
   "source": [
    "<h3>Hypotestest för medelvärde mellan två populationer</h3>\n",
    "<h5>Konstruera ett hypotestest som undersöker om medelvärdet i näbblängd är större för hanpingviner än för honpingviner. Använd en signifikansnivå $\\alpha=0.05$. Antag $d_0 = 0$.</h5>\n",
    "\n",
    "Det börjar kännas bekant det här nu va! Vi börjar med att formulera våra hypoteser. Här vill vi göra ett ensidigt test mellan två medelvärden $\\mu_{hane}$ och $\\mu_{hona}$. Vi anger vår alternativhypotes som att $\\mu_{hane}$ är större än $\\mu_{hona}$, alltså:<br>\n",
    "    $H_A: \\mu_{hane} > \\mu_{hona}$<br>\n",
    "Det följer att nollhypotesen, alltså komplementet till alternativhypotesen då blir:<br>\n",
    "    $H_0: \\mu_{hane} \\leq \\mu_{hona}$<br>\n",
    "Testfunktionen i det här fallet, där båda varianserna är okända, samt får antas kunna vara olika, blir:\n",
    "<h3>\n",
    "    $t_{df} = \\frac{\\bar{x_1} - \\bar{x_2}}{\\sqrt{\\frac{s_1^2}{n_1} + \\frac{s_2^2}{n_2}}}$\n",
    "</h3>\n",
    "Här skulle vi kunna roa oss med att beräkna test-statistiskan med NumPy-metoder. Men, vi kan också nöja oss med att låta SciPy räkna på det åt oss, genom att gå direkt till funktionen för ett t-test mellan två medelvärden <code>ttest_ind()</code>. argumentet <code>equal_var</code> avgör här om testet skall göras utifrån antagande om att variansen är lika eller olika."
   ]
  },
  {
   "cell_type": "code",
   "execution_count": 5,
   "metadata": {},
   "outputs": [
    {
     "name": "stdout",
     "output_type": "stream",
     "text": [
      "Ttest_indResult(statistic=6.67245551331115, pvalue=5.332283057920293e-11)\n"
     ]
    }
   ],
   "source": [
    "from scipy.stats import ttest_ind\n",
    "\n",
    "result = ttest_ind(a=male['bill_length_mm'], b=female['bill_length_mm'], equal_var=False, alternative='greater')\n",
    "print(result)"
   ]
  },
  {
   "cell_type": "markdown",
   "metadata": {},
   "source": [
    "Vi får ett p-värde på ~5e-11, alltså bra nog att förkasta nollhypotesen till nära en mycket liten signifikansnivå. Vår data säger alltså att medellängden på pingvinnäbbar inte är samma för hanar och honor, till en signifikans på åtminstone 0.05.\n",
    "\n",
    "Om vi istället jämför mellan Adelie-pingviner på Dream respektive Biscoe island då? Här kan vi kanske förvänta oss en betydligt mindre, om någon skillnad. Det fina med att göra sådana här beräkningar m.h.a. Pandas och SciPy är att det med vad vi nu lärt oss är väldigt enkelt att sätta upp det testet."
   ]
  },
  {
   "cell_type": "code",
   "execution_count": 6,
   "metadata": {},
   "outputs": [
    {
     "name": "stdout",
     "output_type": "stream",
     "text": [
      "Ttest_indResult(statistic=-0.9060705107779293, pvalue=0.36714374025851804)\n"
     ]
    }
   ],
   "source": [
    "dream = penguins[(penguins['species'] == 'Adelie') & (penguins['island'] == 'Dream')]\n",
    "biscoe = penguins[(penguins['species'] == 'Adelie') & (penguins['island'] == 'Biscoe')]\n",
    "\n",
    "result = ttest_ind(a=dream['bill_length_mm'], b=biscoe['bill_length_mm'], equal_var=True, alternative='two-sided')\n",
    "print(result)"
   ]
  },
  {
   "cell_type": "markdown",
   "metadata": {},
   "source": [
    "Nej, här visar det sig att p-värdet blev ganska högt istället, ~0.37. Testet ger alltså att vi inte kan förkasta nollhypotesen, vi kan alltså utifrån vår data, och en signifikansnivå på 0.05, inte avgöra om det är någon skillnad mellan medelnäbblängden på Adelie-pingviner på Dream resp. Biscoe island.\n",
    "\n",
    "Obs! Notera att vi här ställde <code>equal_var=True</code>. Det är ett rimligt antagande att Adeliepingviners näbblängd har samma varians oavsett vilken ö de befinner sig på. (För så stora <i>n</i> som vi jobbar med här spelar det nästan ingen roll)"
   ]
  }
 ],
 "metadata": {
  "kernelspec": {
   "display_name": "Python 3 (ipykernel)",
   "language": "python",
   "name": "python3"
  },
  "language_info": {
   "codemirror_mode": {
    "name": "ipython",
    "version": 3
   },
   "file_extension": ".py",
   "mimetype": "text/x-python",
   "name": "python",
   "nbconvert_exporter": "python",
   "pygments_lexer": "ipython3",
   "version": "3.11.0"
  }
 },
 "nbformat": 4,
 "nbformat_minor": 4
}
