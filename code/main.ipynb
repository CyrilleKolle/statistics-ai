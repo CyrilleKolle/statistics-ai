{
 "cells": [
  {
   "cell_type": "code",
   "execution_count": 1,
   "metadata": {},
   "outputs": [],
   "source": [
    "from main import Statistics_ai\n",
    "\n",
    "petal_width_ci = Statistics_ai(test='petal_width', alph=99)"
   ]
  },
  {
   "cell_type": "code",
   "execution_count": 2,
   "metadata": {},
   "outputs": [
    {
     "name": "stdout",
     "output_type": "stream",
     "text": [
      "Confidence interval with confidence grade of 99 for petal_width of the dataframes are: \n",
      " \n",
      "setosa[\"petal_width\"] between 0.203 and 0.285 \n",
      "\n",
      "verginica[\"petal_width\"] between 1.922 and 2.13 \n",
      "\n",
      "versicolor[\"petal_width\"] between 1.251 and 1.401 \n",
      "\n"
     ]
    }
   ],
   "source": [
    "  \n",
    "petal_width_ci.confidence_interval()"
   ]
  },
  {
   "cell_type": "code",
   "execution_count": 3,
   "metadata": {},
   "outputs": [
    {
     "name": "stdout",
     "output_type": "stream",
     "text": [
      "Description for setosa \n",
      "       sepal_length  sepal_width  petal_length  petal_width\n",
      "count      50.00000    50.000000     50.000000     50.00000\n",
      "mean        5.00600     3.418000      1.464000      0.24400\n",
      "std         0.35249     0.381024      0.173511      0.10721\n",
      "min         4.30000     2.300000      1.000000      0.10000\n",
      "25%         4.80000     3.125000      1.400000      0.20000\n",
      "50%         5.00000     3.400000      1.500000      0.20000\n",
      "75%         5.20000     3.675000      1.575000      0.30000\n",
      "max         5.80000     4.400000      1.900000      0.60000\n",
      "\n"
     ]
    }
   ],
   "source": [
    "petal_width_ci.description('setosa')"
   ]
  },
  {
   "cell_type": "code",
   "execution_count": 4,
   "metadata": {},
   "outputs": [
    {
     "name": "stdout",
     "output_type": "stream",
     "text": [
      "1.4743626943005181 0.6221654675017775\n"
     ]
    }
   ],
   "source": [
    "petal_width_ci.variance_hypothesis_test(noll_df='setosa' ,other_df='versicolor', sub_df='sepal_width')"
   ]
  },
  {
   "cell_type": "code",
   "execution_count": 5,
   "metadata": {},
   "outputs": [
    {
     "name": "stdout",
     "output_type": "stream",
     "text": [
      "hypothesis rejected because p_value(5.879601468409086e-15) is less than 0.05 which is the significance level\n",
      "\n",
      " Alternatively, We could compare the result.statistic from the ttest_ind \n",
      "\n",
      "hypothesis rejected because t_statistic(9.28277255555811) is greater than 0.95 which is the significance level\n"
     ]
    }
   ],
   "source": [
    "petal_width_ci.mean_hypothesis_test(noll_df='setosa' ,other_df='versicolor', sub_df='sepal_width')"
   ]
  },
  {
   "cell_type": "code",
   "execution_count": 6,
   "metadata": {},
   "outputs": [
    {
     "name": "stdout",
     "output_type": "stream",
     "text": [
      "\n",
      "\n",
      " using the statsmodel we get (-37.95253838865987, 1.0, 15.912062043776174)\n"
     ]
    }
   ],
   "source": [
    "petal_width_ci.mean_hypothesis_statsmodel(noll_df='setosa' ,other_df='versicolor', sub_df='sepal_width')"
   ]
  },
  {
   "cell_type": "code",
   "execution_count": 7,
   "metadata": {},
   "outputs": [
    {
     "name": "stdout",
     "output_type": "stream",
     "text": [
      "Description for versicolor \n",
      "       sepal_length  sepal_width  petal_length  petal_width\n",
      "count     50.000000    50.000000     50.000000    50.000000\n",
      "mean       5.936000     2.770000      4.260000     1.326000\n",
      "std        0.516171     0.313798      0.469911     0.197753\n",
      "min        4.900000     2.000000      3.000000     1.000000\n",
      "25%        5.600000     2.525000      4.000000     1.200000\n",
      "50%        5.900000     2.800000      4.350000     1.300000\n",
      "75%        6.300000     3.000000      4.600000     1.500000\n",
      "max        7.000000     3.400000      5.100000     1.800000\n",
      "\n"
     ]
    }
   ],
   "source": [
    "versi_petal = Statistics_ai(test='sepal_width', alph=95)\n",
    "versi_petal.description('versicolor')"
   ]
  },
  {
   "cell_type": "code",
   "execution_count": 8,
   "metadata": {},
   "outputs": [
    {
     "name": "stdout",
     "output_type": "stream",
     "text": [
      "\n",
      "\n",
      " using the statsmodel compare means, I can conclude that, using 0.05 significance level, setosa[sepal_width] is greater than versicolor[sepal_width] by a value found with get the lower ci: 0.509407152606611 and upper ci 0.7865928473933893\n"
     ]
    }
   ],
   "source": [
    "petal_width_ci.compare_means(noll_df='setosa' ,other_df='versicolor', sub_df='sepal_width')"
   ]
  },
  {
   "cell_type": "code",
   "execution_count": null,
   "metadata": {},
   "outputs": [],
   "source": []
  }
 ],
 "metadata": {
  "kernelspec": {
   "display_name": "Python 3.9.13 ('data-behandlin-cyrille-kolle-IH-hno8Y')",
   "language": "python",
   "name": "python3"
  },
  "language_info": {
   "codemirror_mode": {
    "name": "ipython",
    "version": 3
   },
   "file_extension": ".py",
   "mimetype": "text/x-python",
   "name": "python",
   "nbconvert_exporter": "python",
   "pygments_lexer": "ipython3",
   "version": "3.9.13"
  },
  "orig_nbformat": 4,
  "vscode": {
   "interpreter": {
    "hash": "687cb790cab5c1df02f1d8017d39b24847b850bfcb98624e1903a6099427824d"
   }
  }
 },
 "nbformat": 4,
 "nbformat_minor": 2
}
